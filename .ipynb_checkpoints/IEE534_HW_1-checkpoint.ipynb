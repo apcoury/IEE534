{
 "cells": [
  {
   "cell_type": "code",
   "execution_count": 1,
   "metadata": {},
   "outputs": [],
   "source": [
    "import math; "
   ]
  },
  {
   "cell_type": "markdown",
   "metadata": {},
   "source": [
    "<h1> IEE534 Assignment 1 </h1>\n",
    "\n",
    "<h2> Question 1 </h2>\n",
    "\n",
    "<h3> 1. The Kirei-Hana Japanese Steak House in San Francisco consumes 3000 pounds of sirloin steak each month. Yama Hirai, the new restraurant manager, recently completed an MBA degree. He learned that the steak was replenished using an EOQ value of 2000 pounds. This EOQ value was computed assuming an interest rate of 36 percent per year. Assume that the current cost of the sirloin steak to the steak house is $4 per pound. </h3>\n",
    "\n",
    "<h4> \n",
    "    (a) What is the setup cost used in determining the EOQ value?\n",
    "</h4>"
   ]
  },
  {
   "cell_type": "code",
   "execution_count": 10,
   "metadata": {},
   "outputs": [
    {
     "name": "stdout",
     "output_type": "stream",
     "text": [
      "Setup Cost = 80.0 dollars per pound\n"
     ]
    }
   ],
   "source": [
    "#setup cost = ordering fee*(Demand/Quantity) = K*(D/Q)\n",
    "\n",
    "d = 3000; #per month\n",
    "D = 12*3000; #per year\n",
    "EOQ = 2000;\n",
    "#K = ?; not sure\n",
    "i = 0.36;\n",
    "c = 4; #dollars/lb\n",
    "\n",
    "#EOQ = sqrt([2*K*D] / [i*c]) where i = holding cost & c = unit cost\n",
    "#EOQ^2 * (ic)= 2*K*D\n",
    "#K = (EOQ^2*i*c)/(2*D)\n",
    "\n",
    "K = ((EOQ*EOQ)*i*c)/(2*D)\n",
    "print(\"Setup Cost =\",K, \"dollars per pound\")\n"
   ]
  },
  {
   "cell_type": "markdown",
   "metadata": {},
   "source": [
    "<h4>\n",
    "(b) Mr. Hirai received an offer from a meat wholesaler in which a discount of 5 percent would be given if the steak house purchased steak in quantities of 3000 pounds or more. Should Mr. Hirai accept the offer from the wholesaler? If so, how much can be saved?\n",
    "</h4>"
   ]
  },
  {
   "cell_type": "code",
   "execution_count": 20,
   "metadata": {},
   "outputs": [
    {
     "name": "stdout",
     "output_type": "stream",
     "text": [
      "EOQ(c1) =  2000.0 and EOQ(c2) 2051.9567041703085 \n",
      "\n",
      "Because EOQ(c2) is < 3000 it is not realizable, thus: \n",
      "\n",
      "TC(c1) =  146880.0 and TC(3000) 139812.0 \n",
      "\n",
      "Mr. Hirai should accept the offer because 7068.0 could be saved every year.\n"
     ]
    }
   ],
   "source": [
    "c1 = 4;\n",
    "c2 = .95*4;\n",
    "\n",
    "EOQ_c1 = math.sqrt((2*K*D)/(i*c1))\n",
    "EOQ_c2 = math.sqrt((2*K*D)/(i*c2))\n",
    "print(\"EOQ(c1) = \",EOQ_c1, \"and EOQ(c2)\",EOQ_c2,\"\\n\")\n",
    "print(\"Because EOQ(c2) is < 3000 it is not realizable, thus: \\n\")\n",
    "\n",
    "TC_c1 = ((K*(D/EOQ_c1)) + c1*D + i*c1*(EOQ_c1/2))\n",
    "TC_3000 = ((K*(D/3000)) + c2*D + i*c2*(3000/2))\n",
    "\n",
    "print(\"TC(c1) = \",TC_c1, \"and TC(3000)\",TC_3000,\"\\n\")\n",
    "\n",
    "Savings = TC_c1 - TC_3000;\n",
    "print(\"Mr. Hirai should accept the offer because\",Savings,\n",
    "     \"could be saved every year.\")\n",
    "\n",
    "\n"
   ]
  },
  {
   "cell_type": "markdown",
   "metadata": {},
   "source": [
    "<h2> Question 1 </h2>\n",
    "\n",
    "<h3> ... </h3>\n",
    "\n",
    "<h4> ... </h4>\n"
   ]
  },
  {
   "cell_type": "code",
   "execution_count": null,
   "metadata": {},
   "outputs": [],
   "source": []
  }
 ],
 "metadata": {
  "kernelspec": {
   "display_name": "Python 3",
   "language": "python",
   "name": "python3"
  },
  "language_info": {
   "codemirror_mode": {
    "name": "ipython",
    "version": 3
   },
   "file_extension": ".py",
   "mimetype": "text/x-python",
   "name": "python",
   "nbconvert_exporter": "python",
   "pygments_lexer": "ipython3",
   "version": "3.7.0"
  }
 },
 "nbformat": 4,
 "nbformat_minor": 2
}
