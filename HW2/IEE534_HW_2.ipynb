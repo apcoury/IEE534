{
 "cells": [
  {
   "cell_type": "code",
   "execution_count": 2,
   "metadata": {},
   "outputs": [],
   "source": [
    "import math; \n",
    "import statistics;\n",
    "from IPython.display import Image # Image(filename='example.jpg') or ![test](example.PNG)\n",
    "from scipy.stats import norm"
   ]
  },
  {
   "cell_type": "markdown",
   "metadata": {},
   "source": [
    "<h1> IEE534 Assignment 2 </h1>\n",
    "\n",
    "<h2> Question 1 </h2>\n",
    "\n",
    "<h3> 1. (Newsvendor Model) A large mining company plans to purchase 100 customized pneumatic rock-drills whose drilling\n",
    "tools break occasionally and need to be changed. Spare tools can be purchased at the time that the order is placed for\n",
    "\\$50 each, but will cost \\$170 if purchased at a later time since the tools are designed and manufactured according to the\n",
    "firm’s specifications. It is estimated that the number of replacement drill tools required by a rock-drill over its useful\n",
    "lifetime can be approximated by a Normal distribution with mean 18 and standard deviation of 5.2. The supplier for\n",
    "the rock-drills agrees to buy back any unused drill tools for \\$20 each. How many spare drill tools should the company\n",
    "purchase with the rock-drills?\n",
    " </h3>"
   ]
  },
  {
   "cell_type": "code",
   "execution_count": 4,
   "metadata": {},
   "outputs": [
    {
     "name": "stdout",
     "output_type": "stream",
     "text": [
      "The number of spare drill tools the company should purchase with the rocks drills is: 22.0\n"
     ]
    }
   ],
   "source": [
    "mean = 18;\n",
    "SD = 5.2;\n",
    "overage = 50-20;\n",
    "underage = 170-50;\n",
    "\n",
    "CR = underage/(overage+underage);\n",
    "Phi_z = round(norm.ppf(CR),2);\n",
    "\n",
    "Q = round((SD*Phi_z)+mean);\n",
    "\n",
    "print(\"The number of spare drill tools the company should purchase with the rocks drills is:\",Q);"
   ]
  },
  {
   "cell_type": "markdown",
   "metadata": {},
   "source": [
    "<h2> Question 2 </h2>\n",
    "\n",
    "<h3> 2. . (Newsvendor Model) Irwin’s sells a particular model of fan, with most of the sales being made in the summer months.\n",
    "Irwin’s makes a one-time purchase of the fans prior to each summer session at a cost of \\$40.00 each and sells each fan\n",
    "for only \\$60.00. Any fans unsold at the end of the summer season are marked down to \\$29.00 and sold in a special fall\n",
    "sale. Virtually all marked down fans are sold. The following is the number of sales of fans during the past 10 summers:\n",
    "30, 50, 30, 60, 10, 40, 30, 30, 20, 40.\n",
    " </h3>\n",
    "\n",
    "<h4> \n",
    "    (a) Estimate the mean and variance of the demand for fans each summer.\n",
    "</h4>"
   ]
  },
  {
   "cell_type": "code",
   "execution_count": 28,
   "metadata": {},
   "outputs": [
    {
     "name": "stdout",
     "output_type": "stream",
     "text": [
      "The mean of the demand for fans is: 34.0 and the variance is: 184.0\n"
     ]
    }
   ],
   "source": [
    "mean = ((30+50+30+60+10+40+30+30+20+40)/10);\n",
    "\n",
    "SalesList = [30,50,30,60,10,40,30,30,20,40];\n",
    "VarList = [];\n",
    "for i in SalesList:\n",
    "    VarList.append(math.pow((i - mean),2)); #calculating variance (e-mu)^2 for each amount\n",
    "    \n",
    "variance = statistics.mean(VarList); #finding mean of variances\n",
    "\n",
    "print(\"The mean of the demand for fans is:\",mean,\"and the variance is:\",variance);"
   ]
  },
  {
   "cell_type": "markdown",
   "metadata": {},
   "source": [
    "<h4>\n",
    "    (b) Assume that the demand for fans each summer follows a Normal distribution, with mean and variance given by what\n",
    "you obtained in part (a). Determine the optimal number of fans for Irwin’s to buy prior to each summer session.\n",
    "</h4>"
   ]
  },
  {
   "cell_type": "code",
   "execution_count": 29,
   "metadata": {},
   "outputs": [
    {
     "name": "stdout",
     "output_type": "stream",
     "text": [
      "The optimal number of fans for Irwin's to buy prior to each summer session is: 39.0\n"
     ]
    }
   ],
   "source": [
    "mean = 34;\n",
    "variance = 184;\n",
    "SD = math.sqrt(variance);\n",
    "overage = 40-29;\n",
    "underage = 60-40;\n",
    "\n",
    "CR = underage/(overage+underage);\n",
    "Phi_z = round(norm.ppf(CR),2);\n",
    "\n",
    "Q = round((SD*Phi_z)+mean);\n",
    "\n",
    "print(\"The optimal number of fans for Irwin's to buy prior to each summer session is:\",Q);"
   ]
  },
  {
   "cell_type": "markdown",
   "metadata": {},
   "source": [
    "![q2p1](q2p1.PNG)"
   ]
  },
  {
   "cell_type": "code",
   "execution_count": null,
   "metadata": {},
   "outputs": [],
   "source": [
    "#Slides 15 and 16"
   ]
  },
  {
   "cell_type": "markdown",
   "metadata": {},
   "source": [
    "<h4>\n",
    "    (d) Based on your results for parts (b) and (c), would you say that the Normal distribution provides an adequate\n",
    "approximation?\n",
    "</h4>"
   ]
  },
  {
   "cell_type": "code",
   "execution_count": null,
   "metadata": {},
   "outputs": [],
   "source": [
    "# Based on my results for parts b and c, I would say that the normal distribution provides an adequate approximation \n",
    "# because the mean is 34, which is not off from the approximation of 39 when normally distributed. It may seem absurd \n",
    "# because there are summers like 10 and 60; however, just because the standard deviation is high doesn't mean approximation\n",
    "# isn't somewhat adequate. Not to mention it is $9 cheaper per unit to have overage than underage. Thus, because the \n",
    "# resulting approximation from the normal distribution is close to the mean and favors overage, it is adequate. "
   ]
  },
  {
   "cell_type": "markdown",
   "metadata": {},
   "source": [
    "<h2> Question 3 </h2>\n",
    "\n",
    "<h3> 3. The owner of Kwik-Print, Jack Proffitts, orders office paper for the photocopy machines in his shop. Demand for paper in the shop is approximately 30 packages per week, but it is quite variable (i.e., it is appropriate to use the Poisson distribution to model the demand). Mr. Proffitts has just recently read an article about the (Q, r) policy, and would like to use it to control stock levels of paper in Kwik-Print. Each package of paper costs \\$4.00, but no information is available on the ordering and stockout/backorder costs. The replenishment lead time is one week. </h3>\n",
    "\n",
    "<h4> \n",
    "    (a) Although Mr. Proffitts does not know the ordering costs, he knows that he does not want to order more than once\n",
    "every two weeks (26 orders/year). What order size should he use?\n",
    "</h4>"
   ]
  },
  {
   "cell_type": "code",
   "execution_count": 62,
   "metadata": {},
   "outputs": [
    {
     "name": "stdout",
     "output_type": "stream",
     "text": [
      "To order no more than once every two weeks, he should use and order size of: 88.0\n"
     ]
    }
   ],
   "source": [
    "D = 30; #units per week\n",
    "c = 4; #cost per unit\n",
    "\n",
    "#Assuming 52 weeks and 365 days in a year:\n",
    "YearlyDemand = 52*30;\n",
    "DailyDemand = round(YearlyDemand/365);\n",
    "LeadTimeDemand = DailyDemand*7;\n",
    "CycleTimeDemand = YearlyDemand/26; #to ensure no more than 26 weeks we'll find the worst case scenario\n",
    "\n",
    "OrderSize = CycleTimeDemand+LeadTimeDemand; #accounts for deamnd in each order plus demand during lead time\n",
    "\n",
    "print(\"To order no more than once every two weeks, he should use and order size of:\",OrderSize);"
   ]
  },
  {
   "cell_type": "markdown",
   "metadata": {},
   "source": [
    "<h4>\n",
    "    (b) How much safety stock does he have to carry in order to ensure a 98% fill rate?\n",
    "</h4>"
   ]
  },
  {
   "cell_type": "code",
   "execution_count": 63,
   "metadata": {},
   "outputs": [
    {
     "name": "stdout",
     "output_type": "stream",
     "text": [
      "To ensure a 98% Fill Rate, the amount of safety stock needed to be carried is: 0\n"
     ]
    }
   ],
   "source": [
    "SafetyStock = 0;\n",
    "\n",
    "print(\"To ensure a 98% Fill Rate, the amount of safety stock needed to be carried is:\",SafetyStock);"
   ]
  },
  {
   "cell_type": "markdown",
   "metadata": {},
   "source": [
    "<h4>\n",
    "    (c) Suppose he decided that he can make a weekly order (52 orders/year) rather than once every two weeks. How does\n",
    "Q and r change?\n",
    "</h4>"
   ]
  },
  {
   "cell_type": "code",
   "execution_count": null,
   "metadata": {},
   "outputs": [],
   "source": []
  },
  {
   "cell_type": "markdown",
   "metadata": {},
   "source": [
    "<h2> Question 4 </h2>\n",
    "\n",
    "<h3> 4. A high-tech manufacturing company in Hong Kong called HK is purchasing color displays to be used in its digital video\n",
    "recorders. The displays are coming from north of China and it takes 3 weeks to receive any order from the vendor. The\n",
    "weekly demand of displays is approximately normally distributed with mean of 38 and a variance of 130. Each display\n",
    "costs \\$18.80 and there is an ordering cost of $75 regardless of the size of the order. The company uses a stock-out cost\n",
    "of \\$400 per display and 40\\% of annual interest rate is used to compute holding costs. HK works 52 weeks in a year.\n",
    " </h3>\n",
    "\n",
    "<h4> \n",
    "    (a) Compute the mean and variance of demand during lead time.\n",
    "</h4>"
   ]
  },
  {
   "cell_type": "code",
   "execution_count": null,
   "metadata": {},
   "outputs": [],
   "source": [
    "mean = 38;\n",
    "variance = 130;\n",
    "SD = math.sqrt(variance);"
   ]
  },
  {
   "cell_type": "markdown",
   "metadata": {},
   "source": [
    "<h4>\n",
    "    (b) HK currently orders in lots of 500 units. What should be the reorder point?\n",
    "</h4>"
   ]
  },
  {
   "cell_type": "code",
   "execution_count": null,
   "metadata": {},
   "outputs": [],
   "source": [
    "K = 75;"
   ]
  },
  {
   "cell_type": "markdown",
   "metadata": {},
   "source": [
    "<h4>\n",
    "    (c) If HK wants to rearrange the contract with the vendor to minimize costs, what should be the new order size?\n",
    "</h4>\n",
    "<br />\n",
    "<h5>\n",
    "    i. What is the corresponding optimal reorder point? (Do at most two iterations to find the optimal Q, R values)\n",
    "</h5>\n",
    "<br />\n",
    "<h5>\n",
    "    ii. What is the safety stock level corresponding to the (Q, R) policy in part (i)?\n",
    "</h5>"
   ]
  },
  {
   "cell_type": "code",
   "execution_count": null,
   "metadata": {},
   "outputs": [],
   "source": []
  },
  {
   "cell_type": "markdown",
   "metadata": {},
   "source": [
    "<h4>\n",
    "    (d) How much can HK save in terms of setup, holding and stock-out costs by changing the contract from 500 units of lot\n",
    "size to the optimal value you found in part (c)? (you should use the best R values you found for the corresponding\n",
    "Q values)\n",
    "</h4>"
   ]
  },
  {
   "cell_type": "code",
   "execution_count": null,
   "metadata": {},
   "outputs": [],
   "source": []
  },
  {
   "cell_type": "markdown",
   "metadata": {},
   "source": [
    "<h4>\n",
    "    (e) HK’s management is uncomfortable with the $400 stock-out cost. Rather than using a stock-out cost, they decided\n",
    "to have a 92\\% Type 1 service level (α = 0.92). If HK uses a lot size equal to EOQ value:\n",
    "</h4>\n",
    "<br />\n",
    "<h5>\n",
    "i. What is the reorder point?\n",
    "</h5>\n",
    "<br />\n",
    "<h5>\n",
    "ii. What is the corresponding imputed shortage cost?\n",
    "</h5>"
   ]
  },
  {
   "cell_type": "code",
   "execution_count": null,
   "metadata": {},
   "outputs": [],
   "source": []
  },
  {
   "cell_type": "markdown",
   "metadata": {},
   "source": [
    "<h4>\n",
    "    (f) Solve part (e) for Type 2 service level (β = 0.98) instead of Type 1.\n",
    "</h4>\n",
    "<br />\n",
    "<h5>\n",
    "i. Find the optimum values of Q and R. (Do at most two iterations.)\n",
    "</h5>\n",
    "<br />\n",
    "<h5>\n",
    "ii. Compute the imputed shortage cost for (ii).\n",
    "</h5>\n",
    "<br />\n",
    "<h5>\n",
    "iii. What is the corresponding Type 1 service level?\n",
    "</h5>"
   ]
  },
  {
   "cell_type": "code",
   "execution_count": null,
   "metadata": {},
   "outputs": [],
   "source": []
  },
  {
   "cell_type": "markdown",
   "metadata": {},
   "source": [
    "<h2> Question 5 </h2>\n",
    "\n",
    "<h3> 5. Luciano sells linguini that he imports from Italy in his restaurant shop. It takes about three weeks for the Italian company\n",
    "to ship an order and fixed costs of ordering amount to about \\$75.00 for bookkeeping expenses. The linguini costs Luciano\n",
    "\\$2.00 per packet and may be purchased in any quantity. Luciano told Mario that his holding costs were based on a 20%\n",
    "annual rate, and he estimated that the loss of customer goodwill for not being able to provide the linguini when requested\n",
    "amounts to \\$25.00 (unit stockout cost). The demand for linguini has been uncertain, but looking at past data, Mario\n",
    "feels confident that the weekly demand for linguini is distributed Normal(12, 8^2).\n",
    " </h3>\n",
    "\n",
    "<h4> \n",
    "    (a) Find the optimal (Q, r) policy that Mario should implement.\n",
    "</h4>"
   ]
  },
  {
   "cell_type": "code",
   "execution_count": null,
   "metadata": {},
   "outputs": [],
   "source": []
  },
  {
   "cell_type": "markdown",
   "metadata": {},
   "source": [
    "<h4>\n",
    "    (b) Find the average frequency of ordering, fill rate, backorder level and inventory level for the policy you found in part\n",
    "(a).\n",
    "</h4>"
   ]
  },
  {
   "cell_type": "code",
   "execution_count": null,
   "metadata": {},
   "outputs": [],
   "source": []
  },
  {
   "cell_type": "markdown",
   "metadata": {},
   "source": [
    "<h4>\n",
    "    (c) Suppose that the Italian linguini producer decided to require an order size of 500 packets. Find the reorder level\n",
    "that Mario should use if he wishes to satisfy 99% of his customer demands for the linguini (i.e., 99% fill rate).\n",
    "</h4>"
   ]
  },
  {
   "cell_type": "code",
   "execution_count": null,
   "metadata": {},
   "outputs": [],
   "source": []
  },
  {
   "cell_type": "markdown",
   "metadata": {},
   "source": [
    "<h2> Question 6 </h2>\n",
    "\n",
    "<h3> 6. Weiss’ paint store stocks a particularly popular white latex paint, whose monthly demand is approximately normal with\n",
    "mean 28 and standard deviation of 8. Replenishment lead time is about 14 weeks. Each can of paint costs the store\n",
    "\\$6. Although excess demands are back-ordered, the store owner estimates that unfilled demands cost about \\$10 each in\n",
    "bookkeeping and loss-of-goodwill costs. Fixed costs of replenishment are \\$15 per order, and holding costs are based on\n",
    "a 30\\% annual rate of interest. Assume that there are 4.33 weeks per month. </h3>\n",
    "\n",
    "<h4> \n",
    "    (a) Suppose that the white paint is reordered on a monthly basis based on the inventory counts at the end of each\n",
    "month. Using the (Q, R) solution, determine the appropriate values of the (s, S) inventory control policy.\n",
    "</h4>"
   ]
  },
  {
   "cell_type": "code",
   "execution_count": null,
   "metadata": {},
   "outputs": [],
   "source": []
  },
  {
   "cell_type": "markdown",
   "metadata": {},
   "source": [
    "<h4>\n",
    "    (b) Suppose that the demands during the months of January to June were\n",
    "</h4>\n",
    "\n",
    "![q6p1](q6p1.PNG)\n",
    "\n",
    "<h4>\n",
    "    If the starting inventory in January was 26 cans of paint, determine the number of units of paint ordered in each of\n",
    "the months January to June, following the (s, S) policy you found above.\n",
    "</h4>"
   ]
  },
  {
   "cell_type": "code",
   "execution_count": null,
   "metadata": {},
   "outputs": [],
   "source": []
  },
  {
   "cell_type": "markdown",
   "metadata": {},
   "source": [
    "<h4>\n",
    "    (c) Determine the (s, S) policy using the power approximation discussed in class.\n",
    "\n",
    "</h4>"
   ]
  },
  {
   "cell_type": "code",
   "execution_count": null,
   "metadata": {},
   "outputs": [],
   "source": []
  },
  {
   "cell_type": "markdown",
   "metadata": {},
   "source": [
    "<h4>\n",
    "    (d) Compare the two (s, S) policies that you calculated in Part (b) and Part (c) with respect to the Type I service level\n",
    "that they provide.\n",
    "</h4>"
   ]
  },
  {
   "cell_type": "code",
   "execution_count": null,
   "metadata": {},
   "outputs": [],
   "source": []
  },
  {
   "cell_type": "markdown",
   "metadata": {},
   "source": [
    "<h2> Question 7 </h2>\n",
    "\n",
    "<h3> 7. Quick Print Inc. uses plain and three-hole punched paper for copying needs. Demand for each paper type is highly\n",
    "variable. Weekly demand for the plain paper is estimated to be normally distributed with mean 100 and standard\n",
    "deviation 65 (measured in boxes). Each week, a replenishment order is placed to the paper factory and the order arrives\n",
    "five weeks later. All copying orders that cannot be satisfied immediately due to lack of paper are back-ordered. The\n",
    "inventory holding cost is about \\$1 per box per year. Quick Print estimates that the backorder penalty cost is $20 per\n",
    "box. Assume that there are 4.33 weeks per month. </h3>\n",
    "\n",
    "<h4> \n",
    "    (a) Suppose that Quick Print decides to establish an order-up-to level of 700 for plain paper. At the start of this week,\n",
    "there are 523 boxes in inventory and 180 boxes on order. How much will Quick Print order this week?\n",
    "</h4>"
   ]
  },
  {
   "cell_type": "code",
   "execution_count": null,
   "metadata": {},
   "outputs": [],
   "source": []
  },
  {
   "cell_type": "markdown",
   "metadata": {},
   "source": [
    "<h4>\n",
    "    (b) Again, assume that Quick Print uses an order-up-to level of 700.\n",
    "</h4>\n",
    "\n",
    "<br />\n",
    "\n",
    "<h5>\n",
    "i. What is Quick Print’s Type I service level?\n",
    "</h5>\n",
    "\n",
    "<br />\n",
    "\n",
    "<h5>\n",
    "ii. What is Quick Print’s expected on-hand inventory?\n",
    "</h5>\n",
    "\n",
    "<br />\n",
    "\n",
    "<h5>\n",
    "iii. What is Quick Print’s expected on-order inventory?\n",
    "</h5>"
   ]
  },
  {
   "cell_type": "code",
   "execution_count": null,
   "metadata": {},
   "outputs": [],
   "source": []
  },
  {
   "cell_type": "markdown",
   "metadata": {},
   "source": [
    "<h4>\n",
    "    (c) What is Quick Print’s optimal order-up-to level for plain paper if Quick Print operates with a 85% in-stock probability\n",
    "(i.e., Type I service level)?\n",
    "\n",
    "</h4>"
   ]
  },
  {
   "cell_type": "code",
   "execution_count": null,
   "metadata": {},
   "outputs": [],
   "source": []
  },
  {
   "cell_type": "markdown",
   "metadata": {},
   "source": [
    "<h2> Question 8 </h2>\n",
    "\n",
    "<h3> 8. The monthly demand for the pack of party masks in a store is normally distributed with a mean of 150 units, and a\n",
    "standard deviation of 50 units. It costs \\$2.50 to the warehouse to purchase one mask and there is an order setup cost\n",
    "of \\$100 per order. When an order is placed, it takes two months to receive it. If the store is out-of-stock, the packs are\n",
    "backordered with </h3>\n",
    "\n",
    "<h4> \n",
    "    (a) Find the mean and the standard deviation of the demand during lead time.\n",
    "</h4>"
   ]
  },
  {
   "cell_type": "code",
   "execution_count": null,
   "metadata": {},
   "outputs": [],
   "source": []
  },
  {
   "cell_type": "markdown",
   "metadata": {},
   "source": [
    "<h4>\n",
    "    (b) The store wants to find the optimal (Q, R) policy under this setting. For this, perform a single iteration (Start with\n",
    "Q0=EOQ and perform one iteration to obtain the corresponding R1 and Q1). Explain whether the solution you\n",
    "found at the end of this single iteration is optimal or not.\n",
    "\n",
    "</h4>"
   ]
  },
  {
   "cell_type": "code",
   "execution_count": null,
   "metadata": {},
   "outputs": [],
   "source": []
  },
  {
   "cell_type": "markdown",
   "metadata": {},
   "source": [
    "<h4>\n",
    "    (c) Find the optimal (Q, R) policy for a Type-I service level of 95%.\n",
    "\n",
    "</h4>"
   ]
  },
  {
   "cell_type": "code",
   "execution_count": null,
   "metadata": {},
   "outputs": [],
   "source": []
  },
  {
   "cell_type": "markdown",
   "metadata": {},
   "source": [
    "<h4>\n",
    "    (d) Suppose the warehouse decides to apply a (Q, R) policy with Q = 800 units and R = 400 units. Find the type-II\n",
    "service level and the imputed shortage cost of this policy.\n",
    "</h4>"
   ]
  },
  {
   "cell_type": "code",
   "execution_count": null,
   "metadata": {},
   "outputs": [],
   "source": []
  },
  {
   "cell_type": "markdown",
   "metadata": {},
   "source": [
    "<h2> Question 9 </h2>\n",
    "\n",
    "<h3> 9. A newsboy purchases 56 newspapers to satisfy the demand for the next day’s newspaper at a cost of \\$0.50 per unit.\n",
    "Unsold newspapers can be returned for a refund of \\$0.20. He knows that the demand for the newspapers for a single day\n",
    "is normally distributed with a mean of 35 and a standard deviation of 12. At what price should he sell the newspapers\n",
    "to make his purchase quantity optimal?\n",
    " </h3>\n"
   ]
  },
  {
   "cell_type": "code",
   "execution_count": 53,
   "metadata": {},
   "outputs": [
    {
     "name": "stdout",
     "output_type": "stream",
     "text": [
      "The price he should sell the newspapers to make his purchase quantity optimal is: $ 7.69\n"
     ]
    }
   ],
   "source": [
    "mean = 35;\n",
    "SD = 12;\n",
    "x = 7.69; # I experimented with the price of selling cost until the optimum purchasing quantity is closest to 56 \n",
    "overage = .50-.20;\n",
    "underage = x-.50;\n",
    "\n",
    "CR = underage/(overage+underage);\n",
    "Phi_z = norm.ppf(CR);\n",
    "\n",
    "Q = (SD*Phi_z)+mean;\n",
    "\n",
    "FinalPrice = x;\n",
    "\n",
    "print(\"The price he should sell the newspapers to make his purchase quantity optimal is: $\",FinalPrice);"
   ]
  },
  {
   "cell_type": "markdown",
   "metadata": {},
   "source": [
    "<h2> Question 10 </h2>\n",
    "\n",
    "<h3> 10. A textile company Koton, uses a periodic review inventory control system to manage its dye inventory. The annual\n",
    "demand for a particular dye that the company uses heavily is estimated to be normally distributed with a mean of 10,000\n",
    "gallons and a standard deviation of 3,000 gallons. Each week, a replenishment order is placed to the company’s supplier,\n",
    "and the order arrives three weeks later. Any shortages in dye inventory results in a halting of manufacturing process\n",
    "until a delivery is received, and hence, the management wants to ensure a high level of availability for this dye. </h3>\n",
    "\n",
    "<h4> \n",
    "    (a) Suppose that Koton decides to establish an order-up-to level of 2,000 gallons for the dye. At the start of this week,\n",
    "there are 1,265 gallons in inventory and 430 gallons of dye on order. How much dye will Koton order this week?\n",
    "</h4>"
   ]
  },
  {
   "cell_type": "code",
   "execution_count": null,
   "metadata": {},
   "outputs": [],
   "source": []
  },
  {
   "cell_type": "markdown",
   "metadata": {},
   "source": [
    "<h4>\n",
    "    (b) Again, assume that Koton uses an order-up-to level of 2,000 gallons.\n",
    "</h4>\n",
    "\n",
    "<br />\n",
    "\n",
    "<h5>\n",
    "i. What is Koton’s Type I service level?\n",
    "</h5>\n",
    "\n",
    "<br />\n",
    "\n",
    "<h5>\n",
    "ii. What is Koton’s expected on-hand inventory of the dye?\n",
    "</h5>"
   ]
  },
  {
   "cell_type": "code",
   "execution_count": null,
   "metadata": {},
   "outputs": [],
   "source": []
  },
  {
   "cell_type": "markdown",
   "metadata": {},
   "source": [
    "<h4>\n",
    "    (c) What is Koton’s optimal order-up-to level for the dye if Koton operates with an 85% in-stock probability (i.e.,\n",
    "Type-I service level)?\n",
    "</h4>"
   ]
  },
  {
   "cell_type": "code",
   "execution_count": null,
   "metadata": {},
   "outputs": [],
   "source": []
  },
  {
   "cell_type": "markdown",
   "metadata": {},
   "source": [
    "<h2> Question 11 </h2>\n",
    "\n",
    "<h3> 11. Suppose that in the newsvendor problem, a limit existed on the number of units that could be disposed at value, v dollars\n",
    "(where v ≤ c, the unit purchasing cost). Additional units are scrapped with no revenue or additional cost. The following\n",
    "defines the necessary notation:\n",
    "</h3>\n",
    "\n",
    "![test](q11p1.PNG)\n",
    "\n",
    "<h4> \n",
    "    (a) Without any analysis, intuitively, state whether this limit would increase or decrease the optimal ordering quantity,\n",
    "all other things being equal. Explain your reasoning.\n",
    "\n",
    "</h4>"
   ]
  },
  {
   "cell_type": "code",
   "execution_count": null,
   "metadata": {},
   "outputs": [],
   "source": []
  },
  {
   "cell_type": "markdown",
   "metadata": {},
   "source": [
    "<h4>\n",
    "    (b) Write out the new total expected cost expression (i.e., sum of the expected overage and underage costs).\n",
    "\n",
    "</h4>"
   ]
  },
  {
   "cell_type": "code",
   "execution_count": null,
   "metadata": {},
   "outputs": [],
   "source": []
  },
  {
   "cell_type": "markdown",
   "metadata": {},
   "source": [
    "<h4>\n",
    "    (c) Obtain the optimal order quantity from this cost function. (Hint: think about the values of Q, V and the demand\n",
    "in relation to each other.)\n",
    "\n",
    "</h4>"
   ]
  },
  {
   "cell_type": "code",
   "execution_count": null,
   "metadata": {},
   "outputs": [],
   "source": []
  },
  {
   "cell_type": "markdown",
   "metadata": {},
   "source": [
    "<h2> Question 12 </h2>\n",
    "\n",
    "<h3> 12. Office-Co sells secretarial chairs. Annual demand for the chairs is normally distributed with a mean of 1040 chairs and a\n",
    "standard deviation of 51 chairs. Office-Co checks inventory at the end of each week (typically a Saturday evening) and\n",
    "if necessary, puts in an order to its supplier. It costs \\$100 to place an order and the lead time to receive an order is two\n",
    "weeks. Office-Co estimates that if a customer wants a chair when the company is out-of-stock, the loss-of-goodwill cost\n",
    "is \\$50 per chair. Each chair costs \\$60 and is sold for $100. The holding cost of the chairs is based on a 30% annual\n",
    "interest rate. (There are 52 weeks in a year) </h3>\n",
    "\n",
    "<h4> \n",
    "    (a) Discuss why it is appropriate to use an (s, S) inventory control policy in this case. Under what condition would you\n",
    "use a basestock (order-up-to) policy?\n",
    "\n",
    "</h4>"
   ]
  },
  {
   "cell_type": "code",
   "execution_count": null,
   "metadata": {},
   "outputs": [],
   "source": []
  },
  {
   "cell_type": "markdown",
   "metadata": {},
   "source": [
    "<h4>\n",
    "    (b) Using the (Q, R) solution, determine the appropriate values of the (s, S) inventory control policy. Use the EOQ\n",
    "value for the ordering quantity (i.e., no need for iterations).\n",
    "</h4>"
   ]
  },
  {
   "cell_type": "code",
   "execution_count": null,
   "metadata": {},
   "outputs": [],
   "source": []
  },
  {
   "cell_type": "markdown",
   "metadata": {},
   "source": [
    "<h4>\n",
    "    (c) Suppose the company wants to have, on average, at most eight weeks with stockouts every year. Would the above\n",
    "calculated policy satisfy this requirement? Justify your answer with calculations.\n",
    "\n",
    "</h4>"
   ]
  },
  {
   "cell_type": "code",
   "execution_count": null,
   "metadata": {},
   "outputs": [],
   "source": []
  },
  {
   "cell_type": "markdown",
   "metadata": {},
   "source": [
    "<h4>\n",
    "    (d) Can you propose a policy that satisfies the requirement of “at most eight weeks with stockouts per year” with less\n",
    "cost than the one calculated in part (b)? How much can you improve on the expected inventory holding cost?\n",
    "</h4>"
   ]
  },
  {
   "cell_type": "code",
   "execution_count": null,
   "metadata": {},
   "outputs": [],
   "source": []
  },
  {
   "cell_type": "markdown",
   "metadata": {},
   "source": [
    "<h4>\n",
    "    (e) Office-co is considering investing in technology so that they can move from an (s, S) policy to a (Q, R) policy.\n",
    "Calculate a (Q, R) policy by performing a single iteration (Start with Q0=EOQ and perform one iteration to obtain\n",
    "the corresponding R1 and Q1).\n",
    "\n",
    "</h4>"
   ]
  },
  {
   "cell_type": "code",
   "execution_count": null,
   "metadata": {},
   "outputs": [],
   "source": []
  },
  {
   "cell_type": "markdown",
   "metadata": {},
   "source": [
    "<h4>\n",
    "    (f) What is the Type I and Type II service levels obtained by the (Q, R) policy that you have calculated in Part (e)?\n",
    "\n",
    "</h4>"
   ]
  },
  {
   "cell_type": "code",
   "execution_count": null,
   "metadata": {},
   "outputs": [],
   "source": []
  },
  {
   "cell_type": "markdown",
   "metadata": {},
   "source": [
    "<h4>\n",
    "    (g) Discuss how you would justify the costs of this technology. What kinds of systems would enable the company to\n",
    "“move from an (s, S) policy to a (Q, R) policy” ?\n",
    "\n",
    "</h4>"
   ]
  },
  {
   "cell_type": "code",
   "execution_count": null,
   "metadata": {},
   "outputs": [],
   "source": []
  },
  {
   "cell_type": "code",
   "execution_count": null,
   "metadata": {},
   "outputs": [],
   "source": []
  }
 ],
 "metadata": {
  "kernelspec": {
   "display_name": "Python 3",
   "language": "python",
   "name": "python3"
  },
  "language_info": {
   "codemirror_mode": {
    "name": "ipython",
    "version": 3
   },
   "file_extension": ".py",
   "mimetype": "text/x-python",
   "name": "python",
   "nbconvert_exporter": "python",
   "pygments_lexer": "ipython3",
   "version": "3.7.0"
  }
 },
 "nbformat": 4,
 "nbformat_minor": 2
}
