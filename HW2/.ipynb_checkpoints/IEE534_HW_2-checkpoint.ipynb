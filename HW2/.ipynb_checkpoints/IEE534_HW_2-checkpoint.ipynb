{
 "cells": [
  {
   "cell_type": "code",
   "execution_count": 131,
   "metadata": {},
   "outputs": [],
   "source": [
    "import math; \n",
    "import statistics;\n",
    "from IPython.display import Image; # Image(filename='example.jpg') or ![test](example.PNG)\n",
    "from scipy.stats import norm;\n",
    "from matplotlib import pyplot as plot;"
   ]
  },
  {
   "cell_type": "markdown",
   "metadata": {},
   "source": [
    "<h1> IEE534 Assignment 2 </h1>\n",
    "\n",
    "<h2> Question 1 </h2>\n",
    "\n",
    "<h3> 1. (Newsvendor Model) A large mining company plans to purchase 100 customized pneumatic rock-drills whose drilling\n",
    "tools break occasionally and need to be changed. Spare tools can be purchased at the time that the order is placed for\n",
    "\\$50 each, but will cost \\$170 if purchased at a later time since the tools are designed and manufactured according to the\n",
    "firm’s specifications. It is estimated that the number of replacement drill tools required by a rock-drill over its useful\n",
    "lifetime can be approximated by a Normal distribution with mean 18 and standard deviation of 5.2. The supplier for\n",
    "the rock-drills agrees to buy back any unused drill tools for \\$20 each. How many spare drill tools should the company\n",
    "purchase with the rock-drills?\n",
    " </h3>"
   ]
  },
  {
   "cell_type": "code",
   "execution_count": 4,
   "metadata": {},
   "outputs": [
    {
     "name": "stdout",
     "output_type": "stream",
     "text": [
      "The number of spare drill tools the company should purchase with the rocks drills is: 22.0\n"
     ]
    }
   ],
   "source": [
    "mean = 18;\n",
    "SD = 5.2;\n",
    "overage = 50-20;\n",
    "underage = 170-50;\n",
    "\n",
    "CR = underage/(overage+underage);\n",
    "Phi_z = round(norm.ppf(CR),2);\n",
    "\n",
    "Q = round((SD*Phi_z)+mean);\n",
    "\n",
    "print(\"The number of spare drill tools the company should purchase with the rocks drills is:\",Q);"
   ]
  },
  {
   "cell_type": "markdown",
   "metadata": {},
   "source": [
    "<h2> Question 2 </h2>\n",
    "\n",
    "<h3> 2. . (Newsvendor Model) Irwin’s sells a particular model of fan, with most of the sales being made in the summer months.\n",
    "Irwin’s makes a one-time purchase of the fans prior to each summer session at a cost of \\$40.00 each and sells each fan\n",
    "for only \\$60.00. Any fans unsold at the end of the summer season are marked down to \\$29.00 and sold in a special fall\n",
    "sale. Virtually all marked down fans are sold. The following is the number of sales of fans during the past 10 summers:\n",
    "30, 50, 30, 60, 10, 40, 30, 30, 20, 40.\n",
    " </h3>\n",
    "\n",
    "<h4> \n",
    "    (a) Estimate the mean and variance of the demand for fans each summer.\n",
    "</h4>"
   ]
  },
  {
   "cell_type": "code",
   "execution_count": 28,
   "metadata": {},
   "outputs": [
    {
     "name": "stdout",
     "output_type": "stream",
     "text": [
      "The mean of the demand for fans is: 34.0 and the variance is: 184.0\n"
     ]
    }
   ],
   "source": [
    "mean = ((30+50+30+60+10+40+30+30+20+40)/10);\n",
    "\n",
    "SalesList = [30,50,30,60,10,40,30,30,20,40];\n",
    "VarList = [];\n",
    "for i in SalesList:\n",
    "    VarList.append(math.pow((i - mean),2)); #calculating variance (e-mu)^2 for each amount\n",
    "    \n",
    "variance = statistics.mean(VarList); #finding mean of variances\n",
    "\n",
    "print(\"The mean of the demand for fans is:\",mean,\"and the variance is:\",variance);"
   ]
  },
  {
   "cell_type": "markdown",
   "metadata": {},
   "source": [
    "<h4>\n",
    "    (b) Assume that the demand for fans each summer follows a Normal distribution, with mean and variance given by what\n",
    "you obtained in part (a). Determine the optimal number of fans for Irwin’s to buy prior to each summer session.\n",
    "</h4>"
   ]
  },
  {
   "cell_type": "code",
   "execution_count": 29,
   "metadata": {},
   "outputs": [
    {
     "name": "stdout",
     "output_type": "stream",
     "text": [
      "The optimal number of fans for Irwin's to buy prior to each summer session is: 39.0\n"
     ]
    }
   ],
   "source": [
    "mean = 34;\n",
    "variance = 184;\n",
    "SD = math.sqrt(variance);\n",
    "overage = 40-29;\n",
    "underage = 60-40;\n",
    "\n",
    "CR = underage/(overage+underage);\n",
    "Phi_z = round(norm.ppf(CR),2);\n",
    "\n",
    "Q = round((SD*Phi_z)+mean);\n",
    "\n",
    "print(\"The optimal number of fans for Irwin's to buy prior to each summer session is:\",Q);"
   ]
  },
  {
   "cell_type": "markdown",
   "metadata": {},
   "source": [
    "![q2p1](q2p1.PNG)"
   ]
  },
  {
   "cell_type": "code",
   "execution_count": 153,
   "metadata": {},
   "outputs": [
    {
     "name": "stdout",
     "output_type": "stream",
     "text": [
      "The new optimal ordering size based on empricial distrbiution is: 44.0 \n",
      " the new mean is: 34.0 \n",
      " the new variance is: 742.22\n"
     ]
    },
    {
     "data": {
      "image/png": "[encoded data removed]",
      "text/plain": [
       "<Figure size 432x288 with 1 Axes>"
      ]
     },
     "metadata": {
      "needs_background": "light"
     },
     "output_type": "display_data"
    }
   ],
   "source": [
    "#histogram\n",
    "SalesList = [30,50,30,60,10,40,30,30,20,40];\n",
    "ListLength = len(SalesList);\n",
    "plot.hist(SalesList)\n",
    "plot.ylabel('count')\n",
    "plot.xlabel('demand')\n",
    "plot.title('Prior Demand')\n",
    "\n",
    "#mean, variance, and OOQ\n",
    "ProbOf10 = 1/10;\n",
    "ProbOf20 = 1/10;\n",
    "ProbOf30 = 4/10;\n",
    "ProbOf40 = 2/10;\n",
    "ProbOf50 = 1/10;\n",
    "ProbOf60 = 1/10;\n",
    "\n",
    "n=10;\n",
    "EMean = (sum(SalesList))/n;\n",
    "EVarList = [];\n",
    "for i in SalesList:\n",
    "    EVarList.append(math.pow((i - mean),2)); #calculating variance (e-mu)^2 for each amount\n",
    "    \n",
    "ESum = sum(EVarList); #finding mean of variances\n",
    "EVar = round((ESum/(n-1)),2);\n",
    "ESD = math.sqrt(EVar);\n",
    "\n",
    "Eoverage = 40-29; #same as before\n",
    "Eunderage = 60-40; #same as before\n",
    "\n",
    "ECR = Eunderage/(Eoverage+Eunderage);\n",
    "EPhi_z = round(norm.ppf(ECR),2);\n",
    "\n",
    "EQ = round((ESD*EPhi_z)+EMean);\n",
    "\n",
    "\n",
    "print(\"The new optimal ordering size based on empricial distrbiution is:\",EQ,\n",
    "     \"\\n the new mean is:\",EMean,\"\\n the new variance is:\",EVar);"
   ]
  },
  {
   "cell_type": "markdown",
   "metadata": {},
   "source": [
    "<h4>\n",
    "    (d) Based on your results for parts (b) and (c), would you say that the Normal distribution provides an adequate\n",
    "approximation?\n",
    "</h4>"
   ]
  },
  {
   "cell_type": "code",
   "execution_count": null,
   "metadata": {},
   "outputs": [],
   "source": [
    "# Based on my results for parts b and c, I would say that the normal distribution provides an adequate approximation \n",
    "# because the mean is 34, which is not off from the approximation of 39 when normally distributed. It may seem absurd \n",
    "# because there are summers like 10 and 60; however, just because the standard deviation is high doesn't mean approximation\n",
    "# isn't somewhat adequate. Not to mention it is $9 cheaper per unit to have overage than underage. Thus, because the \n",
    "# resulting approximation from the normal distribution is close to the mean and favors overage, it is adequate. "
   ]
  },
  {
   "cell_type": "markdown",
   "metadata": {},
   "source": [
    "<h2> Question 3 </h2>\n",
    "\n",
    "<h3> 3. The owner of Kwik-Print, Jack Proffitts, orders office paper for the photocopy machines in his shop. Demand for paper in the shop is approximately 30 packages per week, but it is quite variable (i.e., it is appropriate to use the Normal (not Poisson) distribution to model the demand). Mr. Proffitts has just recently read an article about the (Q, r) policy, and would like to use it to control stock levels of paper in Kwik-Print. Each package of paper costs \\$4.00, but no information is available on the ordering and stockout/backorder costs. The replenishment lead time is one week. </h3>\n",
    "\n",
    "<h4> \n",
    "    (a) Although Mr. Proffitts does not know the ordering costs, he knows that he does not want to order more than once\n",
    "every two weeks (26 orders/year). What order size should he use?\n",
    "</h4>"
   ]
  },
  {
   "cell_type": "code",
   "execution_count": 83,
   "metadata": {},
   "outputs": [
    {
     "name": "stdout",
     "output_type": "stream",
     "text": [
      "To order no more than once every two weeks, he should use and order size of: 95.0\n"
     ]
    }
   ],
   "source": [
    "D = 30; #units per week\n",
    "c = 4; #cost per unit\n",
    "\n",
    "#Assuming 52 weeks and 365 days in a year:\n",
    "YearlyDemand = 52*30;\n",
    "DailyDemand = math.ceil(D/7);\n",
    "LeadTimeDemand = DailyDemand*7;\n",
    "CycleTimeDemand = YearlyDemand/26; #to ensure no more than 26 weeks we'll find the worst case scenario\n",
    "\n",
    "OrderSize = CycleTimeDemand+LeadTimeDemand; #accounts for deamnd in each order plus demand during lead time\n",
    "\n",
    "print(\"To order no more than once every two weeks, he should use and order size of:\",OrderSize);"
   ]
  },
  {
   "cell_type": "markdown",
   "metadata": {},
   "source": [
    "<h4>\n",
    "    (b) How much safety stock does he have to carry in order to ensure a 98% fill rate?\n",
    "</h4>"
   ]
  },
  {
   "cell_type": "code",
   "execution_count": 170,
   "metadata": {},
   "outputs": [
    {
     "name": "stdout",
     "output_type": "stream",
     "text": [
      "To ensure a 98% Fill Rate, the amount of safety stock needed to be carried each day is: 5 \n",
      " each week is: 30 \n",
      " each ordering cycle (excluding lead time) is: 59 \n",
      " and each year is: 1529\n"
     ]
    }
   ],
   "source": [
    "#I'm calculating part b based on the assumption that we're looking at a 2-week safetystock (via part a) needed for demand\n",
    "WeeklyDemand = 30;\n",
    "DailyDemand = math.ceil(WeeklyDemand/7);\n",
    "YearlyDemand = 52*30;\n",
    "CycleTimeDemand = YearlyDemand/26;\n",
    "NeededFillRate = .98; #1-(ExpectedNotFilled/ExpectedDemand)\n",
    "\n",
    "# The following is the ceiling of filling 98% of demand in each scenario,ensuring >98% of demand over that period can be filled\n",
    "DailyDemandFilled = math.ceil(NeededFillRate*DailyDemand);\n",
    "WeeklyDemandFilled = math.ceil(NeededFillRate*WeeklyDemand);\n",
    "YearlyDemandFilled = math.ceil(NeededFillRate*YearlyDemand);\n",
    "CycleDemandFilled = math.ceil(NeededFillRate*CycleTimeDemand);\n",
    "\n",
    "SafetyStock = NeededFillRate*CycleDemandNotFilled;\n",
    "\n",
    "print(\"To ensure a 98% Fill Rate, the amount of safety stock needed to be carried each day is:\",DailyDemandFilled,\n",
    "      \"\\n each week is:\",WeeklyDemandFilled,\n",
    "     \"\\n each ordering cycle (excluding lead time) is:\",CycleDemandFilled,\n",
    "     \"\\n and each year is:\",YearlyDemandFilled);"
   ]
  },
  {
   "cell_type": "markdown",
   "metadata": {},
   "source": [
    "<h4>\n",
    "    (c) Suppose he decided that he can make a weekly order (52 orders/year) rather than once every two weeks. How does\n",
    "Q and r change?\n",
    "</h4>"
   ]
  },
  {
   "cell_type": "code",
   "execution_count": 86,
   "metadata": {},
   "outputs": [
    {
     "name": "stdout",
     "output_type": "stream",
     "text": [
      "If ordering was changed to every week as opposed to every two weeks, then the value of r would not change because it is based on demand during lead time and lead time has not changed, thus r is still:  35 \n",
      "\n",
      "Furthermore, Q would change to account for one week's worth of demand plus lead time demand, thus Q is: 65\n"
     ]
    }
   ],
   "source": [
    "NewCycleTimeDemand = 30; #same as ordering each week\n",
    "r = LeadTimeDemand;\n",
    "Q = NewCycleTimeDemand+r;\n",
    "\n",
    "print(\"If ordering was changed to every week as opposed to every two weeks, then the value of r would not change because\",\n",
    "      \"it is based on demand during lead time and lead time has not changed, thus r is still: \",r,\n",
    "      \"\\n\\nFurthermore, Q would change to account for one week's worth of demand plus lead time demand, thus Q is:\",Q);"
   ]
  },
  {
   "cell_type": "markdown",
   "metadata": {},
   "source": [
    "<h2> Question 4 </h2>\n",
    "\n",
    "<h3> 4. A high-tech manufacturing company in Hong Kong called HK is purchasing color displays to be used in its digital video\n",
    "recorders. The displays are coming from north of China and it takes 3 weeks to receive any order from the vendor. The\n",
    "weekly demand of displays is approximately normally distributed with mean of 38 and a variance of 130. Each display\n",
    "costs \\$18.80 and there is an ordering cost of $75 regardless of the size of the order. The company uses a stock-out cost\n",
    "of \\$400 per display and 40\\% of annual interest rate is used to compute holding costs. HK works 52 weeks in a year.\n",
    " </h3>\n",
    "\n",
    "<h4> \n",
    "    (a) Compute the mean and variance of demand during lead time.\n",
    "</h4>"
   ]
  },
  {
   "cell_type": "code",
   "execution_count": 156,
   "metadata": {},
   "outputs": [
    {
     "name": "stdout",
     "output_type": "stream",
     "text": [
      "The mean during lead time is:  114.0 \n",
      " and the variance during lead time is:  390.0\n"
     ]
    }
   ],
   "source": [
    "mean = 38; #weeky demand\n",
    "variance = 130;\n",
    "tau = 3 #in weeks\n",
    "SD = math.sqrt(variance);\n",
    "c = 18.8;\n",
    "K = 75;\n",
    "p = 400;\n",
    "i = .4;\n",
    "h = i*c;\n",
    "\n",
    "LeadTimeMean = ((mean*52)/52)*(3);\n",
    "LeadTimeVariance = (variance*52)*(3/52);\n",
    "\n",
    "print(\"The mean during lead time is: \",LeadTimeMean,\"\\n and the variance during lead time is: \",LeadTimeVariance)"
   ]
  },
  {
   "cell_type": "markdown",
   "metadata": {},
   "source": [
    "<h4>\n",
    "    (b) HK currently orders in lots of 500 units. What should be the reorder point?\n",
    "</h4>"
   ]
  },
  {
   "cell_type": "code",
   "execution_count": 157,
   "metadata": {},
   "outputs": [
    {
     "name": "stdout",
     "output_type": "stream",
     "text": [
      "Because R corresponds to demand during lead time, R should be: 114.0\n"
     ]
    }
   ],
   "source": [
    "RP = LeadTimeMean;\n",
    "print(\"Because R corresponds to demand during lead time, R should be:\",RP);"
   ]
  },
  {
   "cell_type": "markdown",
   "metadata": {},
   "source": [
    "<h4>\n",
    "    (c) If HK wants to rearrange the contract with the vendor to minimize costs, what should be the new order size?\n",
    "</h4>\n",
    "<br />\n",
    "<h5>\n",
    "    i. What is the corresponding optimal reorder point? (Do at most two iterations to find the optimal Q, R values)\n",
    "</h5>\n",
    "<br />\n",
    "<h5>\n",
    "    ii. What is the safety stock level corresponding to the (Q, R) policy in part (i)?\n",
    "</h5>"
   ]
  },
  {
   "cell_type": "code",
   "execution_count": 164,
   "metadata": {},
   "outputs": [
    {
     "name": "stdout",
     "output_type": "stream",
     "text": [
      "part i:\n",
      "\n",
      "The new order size should be: 209   and the optimal reorder point should be: 171.0\n",
      "\n",
      "part ii:\n",
      "\n",
      "The SafetyStock for part i is found by (R - mu), which in this case is: 57\n"
     ]
    }
   ],
   "source": [
    "#part i)\n",
    "print(\"part i:\\n\")\n",
    "#Iteration 0: EOQ\n",
    "d = mean*52; #annual demand;\n",
    "Q0 = math.ceil(math.sqrt((2*K*d)/(h)));\n",
    "\n",
    "#Iteration 1: R1 given Q0 and Q1 given R1\n",
    "FR1 = 1-((Q0*h)/(p*d));\n",
    "Phi_z = round(norm.ppf(FR1),2);\n",
    "LeadTimeSD = round(math.sqrt(LeadTimeVariance),2);\n",
    "R1 = round((LeadTimeSD*Phi_z)+LeadTimeMean);\n",
    "\n",
    "L_z = 0.001; #L(z) when z = 2.9\n",
    "nR1 = LeadTimeSD*L_z;\n",
    "Q1 = round(math.sqrt(((2*d)*(K+(p*nR1)))/(h)));\n",
    "\n",
    "print(\"The new order size should be:\",Q1,\"  and the optimal reorder point should be:\",R1)\n",
    "\n",
    "#part ii)\n",
    "print(\"\\npart ii:\\n\")\n",
    "SafetyStock = math.ceil(R1-LeadTimeMean);\n",
    "print(\"The SafetyStock for part i is found by (R - mu), which in this case is:\",SafetyStock)"
   ]
  },
  {
   "cell_type": "markdown",
   "metadata": {},
   "source": [
    "<h4>\n",
    "    (d) How much can HK save in terms of setup, holding and stock-out costs by changing the contract from 500 units of lot\n",
    "size to the optimal value you found in part (c)? (you should use the best R values you found for the corresponding\n",
    "Q values)\n",
    "</h4>"
   ]
  },
  {
   "cell_type": "code",
   "execution_count": 192,
   "metadata": {},
   "outputs": [
    {
     "name": "stdout",
     "output_type": "stream",
     "text": [
      "The amount HK can save from changing lot size is: $ 209.36 \n",
      " The amount from setup is: $ -412.69 \n",
      " The amount from holding is: $ 665.52 \n",
      " The amount from stockout is: $ -43.47\n"
     ]
    }
   ],
   "source": [
    "#slide 34\n",
    "mean = 38; #weeky demand\n",
    "variance = 130;\n",
    "tau = 3 #in weeks\n",
    "SD = math.sqrt(variance);\n",
    "c = 18.8;\n",
    "K = 75;\n",
    "p = 400;\n",
    "i = .4;\n",
    "h = i*c;\n",
    "Q500 = 500;\n",
    "RP500 = 114;\n",
    "Q209 = 209;\n",
    "RP209 = 171;\n",
    "d = mean*52;\n",
    "\n",
    "CQ_500 = round(((h*((Q500/2)+RP500-(d*tau)))+(K*(d/Q500))+(p*((d*nR1)/Q500))),2);\n",
    "CQ_209 = round(((h*((Q209/2)+RP209-(d*tau)))+(K*(d/Q209))+(p*((d*nR1)/Q209))),2);\n",
    "\n",
    "HC500 = (h*((Q500/2)+RP500-(d*tau)));\n",
    "SC500 = (K*(d/Q500));\n",
    "SOC500 = (p*((d*nR1)/Q500));\n",
    "HC209 = (h*((Q209/2)+RP209-(d*tau)));\n",
    "SC209 = (K*(d/Q209));\n",
    "SOC209 = (p*((d*nR1)/Q209));\n",
    "\n",
    "CQ_Diff = round(CQ_500-CQ_209,2);\n",
    "Setup_Diff = round(SC500-SC209,2);\n",
    "HC_Diff = round(HC500-HC209,2);\n",
    "SOC_Diff = round(SOC500-SOC209,2);\n",
    "\n",
    "print(\"The amount HK can save from changing lot size is: $\",CQ_Diff,\n",
    "     \"\\n The amount from setup is: $\",Setup_Diff,\n",
    "     \"\\n The amount from holding is: $\",HC_Diff,\n",
    "     \"\\n The amount from stockout is: $\",SOC_Diff)"
   ]
  },
  {
   "cell_type": "markdown",
   "metadata": {},
   "source": [
    "<h4>\n",
    "    (e) HK’s management is uncomfortable with the $400 stock-out cost. Rather than using a stock-out cost, they decided\n",
    "to have a 92\\% Type 1 service level (α = 0.92). If HK uses a lot size equal to EOQ value:\n",
    "</h4>\n",
    "<br />\n",
    "<h5>\n",
    "i. What is the reorder point?\n",
    "</h5>\n",
    "<br />\n",
    "<h5>\n",
    "ii. What is the corresponding imputed shortage cost?\n",
    "</h5>"
   ]
  },
  {
   "cell_type": "code",
   "execution_count": 198,
   "metadata": {},
   "outputs": [
    {
     "name": "stdout",
     "output_type": "stream",
     "text": [
      "part i:\n",
      "\n",
      "The reorder point is: 142\n",
      "\n",
      "part ii:\n",
      "\n",
      "The imputed shortage cost is: $ 400.00000000000364\n"
     ]
    }
   ],
   "source": [
    "# R should go up, F(R)\n",
    "\n",
    "#part i:\n",
    "print(\"part i:\\n\")\n",
    "\n",
    "    # Assuming the EOQ from part c which is 209:\n",
    "mean = 38; #weeky demand\n",
    "variance = 130;\n",
    "LeadTimeMean = ((mean*52)/52)*(3);\n",
    "LeadTimeVariance = (variance*52)*(3/52);\n",
    "SD = math.sqrt(variance);\n",
    "LeadTimeSD = math.sqrt(LeadTimeVariance);\n",
    "c = 18.8;\n",
    "K = 75;\n",
    "i = .4;\n",
    "h = i*c;\n",
    "\n",
    "z = 1.4; #92nd percentile\n",
    "L_z = 0.037;\n",
    "R = round((LeadTimeSD*z)+LeadTimeMean); #R = SD*z + mu\n",
    "\n",
    "print(\"The reorder point is:\",R)\n",
    "\n",
    "#part ii:\n",
    "print(\"\\npart ii:\\n\")\n",
    "\n",
    "d = 52*mean;\n",
    "nR = LeadTimeSD*L_z;\n",
    "Q = math.sqrt((2*d*(K+(p*nR)))/(h));\n",
    "F_R = 1-((Q*h)/(p*d));\n",
    "\n",
    "ISC = ((Q*h)/(d*(1-F_R))); #p = Qh / d(1-F(R))\n",
    "\n",
    "print(\"The imputed shortage cost is: $\",ISC);"
   ]
  },
  {
   "cell_type": "markdown",
   "metadata": {},
   "source": [
    "<h4>\n",
    "    (f) Solve part (e) for Type 2 service level (β = 0.98) instead of Type 1.\n",
    "</h4>\n",
    "<br />\n",
    "<h5>\n",
    "i. Find the optimum values of Q and R. (Do at most two iterations.)\n",
    "</h5>\n",
    "<br />\n",
    "<h5>\n",
    "ii. Compute the imputed shortage cost for (ii).\n",
    "</h5>\n",
    "<br />\n",
    "<h5>\n",
    "iii. What is the corresponding Type 1 service level?\n",
    "</h5>"
   ]
  },
  {
   "cell_type": "code",
   "execution_count": 226,
   "metadata": {},
   "outputs": [
    {
     "name": "stdout",
     "output_type": "stream",
     "text": [
      "part i:\n",
      "\n",
      "Given one iteration, the optimum value of Q is: 211 \n",
      "The optimum value of R is: 123\n",
      "\n",
      "part ii:\n",
      "\n",
      "The imputed shortage cost is: $ 2.54\n",
      "\n",
      "part iii:\n",
      "\n",
      "The corresponding Type 1 service level is: 85% \n"
     ]
    }
   ],
   "source": [
    "mean = 38; #weeky demand\n",
    "variance = 130;\n",
    "LeadTimeMean = ((mean*52)/52)*(3);\n",
    "LeadTimeVariance = (variance*52)*(3/52);\n",
    "SD = math.sqrt(variance);\n",
    "LeadTimeSD = math.sqrt(LeadTimeVariance);\n",
    "c = 18.8;\n",
    "K = 75;\n",
    "i = .4;\n",
    "h = i*c;\n",
    "\n",
    "z = 1.4; #92nd percentile\n",
    "L_z = 0.037;\n",
    "R = round((LeadTimeSD*z)+LeadTimeMean); #R = SD*z + mu\n",
    "\n",
    "# part i:\n",
    "print(\"part i:\\n\")\n",
    "B = 0.98;\n",
    "Q0 = math.ceil(math.sqrt((2*K*d)/(h)));\n",
    "\n",
    "#Iteration 1: R1 given Q0 and Q1 given R1\n",
    "nR1 = (1-B)*Q0;\n",
    "L_z = nR1/LeadTimeSD; #0.2015 -> z table\n",
    "z = 0.48;\n",
    "R1 = round(LeadTimeSD*z + LeadTimeMean);\n",
    "F_R1 = 0.6844; #F(.48)\n",
    "Q1 = round((nR1/(1-F_R1))+(math.sqrt(((2*K*d)/(h))+(nR/(1-F_R1)))),2);\n",
    "\n",
    "OptQ = round(Q1);\n",
    "OptR = R1;\n",
    "\n",
    "print(\"Given one iteration, the optimum value of Q is:\",OptQ,\"\\nThe optimum value of R is:\",OptR);\n",
    "\n",
    "\n",
    "\n",
    "# part ii:\n",
    "print(\"\\npart ii:\\n\")\n",
    "d = 52*mean;\n",
    "ISC = round(((OptQ*h)/(d*(1-F_R1))),2); #p = Qh / d(1-F(R))\n",
    "\n",
    "print(\"The imputed shortage cost is: $\",ISC)\n",
    "\n",
    "\n",
    "#part iii:\n",
    "print(\"\\npart iii:\\n\");\n",
    "new_nR = (B*.01)*OptQ;\n",
    "new_z = round(new_nR/LeadTimeSD,4); #.1047 -> z table\n",
    "new_Lz = .077; #approx .85\n",
    "\n",
    "print(\"The corresponding Type 1 service level is: 85% \")"
   ]
  },
  {
   "cell_type": "markdown",
   "metadata": {},
   "source": [
    "<h2> Question 5 </h2>\n",
    "\n",
    "<h3> 5. Luciano sells linguini that he imports from Italy in his restaurant shop. It takes about three weeks for the Italian company\n",
    "to ship an order and fixed costs of ordering amount to about \\$75.00 for bookkeeping expenses. The linguini costs Luciano\n",
    "\\$2.00 per packet and may be purchased in any quantity. Luciano told Mario that his holding costs were based on a 20%\n",
    "annual rate, and he estimated that the loss of customer goodwill for not being able to provide the linguini when requested\n",
    "amounts to \\$25.00 (unit stockout cost). The demand for linguini has been uncertain, but looking at past data, Mario\n",
    "feels confident that the weekly demand for linguini is distributed Normal(12, 8^2).\n",
    " </h3>\n",
    "\n",
    "<h4> \n",
    "    (a) Find the optimal (Q, r) policy that Mario should implement.\n",
    "</h4>"
   ]
  },
  {
   "cell_type": "code",
   "execution_count": 248,
   "metadata": {},
   "outputs": [
    {
     "name": "stdout",
     "output_type": "stream",
     "text": [
      "The optimal Q,R policy is: ( 116 , 74.0 )\n"
     ]
    }
   ],
   "source": [
    "mean = 12; #weeky demand\n",
    "variance = 64;\n",
    "tau = 3; #in weeks\n",
    "SD = math.sqrt(variance);\n",
    "c = 18.8;\n",
    "K = 75;\n",
    "p = 400;\n",
    "i = .4;\n",
    "h = i*c;\n",
    "\n",
    "LeadTimeMean = ((mean*52)/52)*(3);\n",
    "LeadTimeVariance = (variance*52)*(3/52);\n",
    "\n",
    "d = mean*52; #annual demand;\n",
    "Q0 = math.ceil(math.sqrt((2*K*d)/(h)));\n",
    "\n",
    "#Iteration 1: R1 given Q0 and Q1 given R1\n",
    "FR1 = 1-((Q0*h)/(p*d)); #F(z) -> z value in z table\n",
    "Phi_z = round(norm.ppf(FR1),2);\n",
    "LeadTimeSD = round(math.sqrt(LeadTimeVariance),2);\n",
    "R1 = round((LeadTimeSD*Phi_z)+LeadTimeMean);\n",
    "\n",
    "L_z = 0.001; #L(z) when z = 2.72\n",
    "nR1 = LeadTimeSD*L_z;\n",
    "Q1 = round(math.sqrt(((2*d)*(K+(p*nR1)))/(h)));\n",
    "\n",
    "print(\"The optimal Q,R policy is: (\",Q1,\",\",R1,\")\")"
   ]
  },
  {
   "cell_type": "markdown",
   "metadata": {},
   "source": [
    "<h4>\n",
    "    (b) Find the average frequency of ordering, fill rate, backorder level and inventory level for the policy you found in part\n",
    "(a).\n",
    "</h4>"
   ]
  },
  {
   "cell_type": "code",
   "execution_count": 249,
   "metadata": {},
   "outputs": [
    {
     "name": "stdout",
     "output_type": "stream",
     "text": [
      "Average frequency of ordering in weeks is: 9.67 \n",
      " fill rate in % is: 99.99 \n",
      " backorder level per week is: 12 \n",
      " inventory level by week is: 186.0\n"
     ]
    }
   ],
   "source": [
    "AOF = round((116/mean),2);\n",
    "FillRate = round((1-(nR1/Q1))*100,2);\n",
    "BL = round((FillRate/100)*mean);\n",
    "new_R = R/7; #reording in weeks\n",
    "IL = round(((new_R*mean)/tau)+(Phi_z*SD*math.sqrt(tau+new_R)));\n",
    "\n",
    "print(\"Average frequency of ordering in weeks is:\",AOF,\n",
    "     \"\\n fill rate in % is:\",FillRate,\n",
    "     \"\\n backorder level per week is:\",BL,\n",
    "     \"\\n inventory level by week is:\",IL)"
   ]
  },
  {
   "cell_type": "markdown",
   "metadata": {},
   "source": [
    "<h4>\n",
    "    (c) Suppose that the Italian linguini producer decided to require an order size of 500 packets. Find the reorder level\n",
    "that Mario should use if he wishes to satisfy 99% of his customer demands for the linguini (i.e., 99% fill rate).\n",
    "</h4>"
   ]
  },
  {
   "cell_type": "code",
   "execution_count": 251,
   "metadata": {},
   "outputs": [
    {
     "name": "stdout",
     "output_type": "stream",
     "text": [
      "The reorder level to satisfy a 99% fill rate is: 68\n"
     ]
    }
   ],
   "source": [
    "new_Q = 500;\n",
    "z = 2.32; # approx 99% from z table\n",
    "R = round((LeadTimeSD*z)+LeadTimeMean);\n",
    "print(\"The reorder level to satisfy a 99% fill rate is:\",R);"
   ]
  },
  {
   "cell_type": "markdown",
   "metadata": {},
   "source": [
    "<h2> Question 6 </h2>\n",
    "\n",
    "<h3> 6. Weiss’ paint store stocks a particularly popular white latex paint, whose monthly demand is approximately normal with\n",
    "mean 28 and standard deviation of 8. Replenishment lead time is about 14 weeks. Each can of paint costs the store\n",
    "\\$6. Although excess demands are back-ordered, the store owner estimates that unfilled demands cost about \\$10 each in\n",
    "bookkeeping and loss-of-goodwill costs. Fixed costs of replenishment are \\$15 per order, and holding costs are based on\n",
    "a 30\\% annual rate of interest. Assume that there are 4.33 weeks per month. </h3>\n",
    "\n",
    "<h4> \n",
    "    (a) Suppose that the white paint is reordered on a monthly basis based on the inventory counts at the end of each\n",
    "month. Using the (Q, R) solution, determine the appropriate values of the (s, S) inventory control policy.\n",
    "</h4>"
   ]
  },
  {
   "cell_type": "code",
   "execution_count": 272,
   "metadata": {},
   "outputs": [
    {
     "name": "stdout",
     "output_type": "stream",
     "text": [
      "The value of s is: 108.0 and the value of S is: 188.0\n"
     ]
    }
   ],
   "source": [
    "mean = 28; #monthly\n",
    "SD = 8;\n",
    "tau = 14;\n",
    "c = 6;\n",
    "p = 10;\n",
    "K = 15;\n",
    "i = .3;\n",
    "h = i*c;\n",
    "\n",
    "LeadTimeMean = ((mean*12)/12)*(3);\n",
    "LeadTimeVariance = (variance*12)*(3/12);\n",
    "\n",
    "d = mean*12; #annual demand;\n",
    "Q0 = math.ceil(math.sqrt((2*K*d)/(h)));\n",
    "\n",
    "#Iteration 1: R1 given Q0 and Q1 given R1\n",
    "FR1 = 1-((Q0*h)/(p*d)); #F(z) -> z value in z table\n",
    "Phi_z = round(norm.ppf(FR1),2);\n",
    "LeadTimeSD = round(math.sqrt(LeadTimeVariance),2);\n",
    "R1 = round((LeadTimeSD*Phi_z)+LeadTimeMean);\n",
    "\n",
    "L_z = 0.016; #L(z) when z = 1.75\n",
    "nR1 = LeadTimeSD*L_z;\n",
    "Q1 = round(math.sqrt(((2*d)*(K+(p*nR1)))/(h)));\n",
    "\n",
    "s = R1;\n",
    "S = Q1+R1;\n",
    "\n",
    "print(\"The value of s is:\",s,\"and the value of S is:\",S);"
   ]
  },
  {
   "cell_type": "markdown",
   "metadata": {},
   "source": [
    "<h4>\n",
    "    (b) Suppose that the demands during the months of January to June were\n",
    "</h4>\n",
    "\n",
    "![q6p1](q6p1.PNG)\n",
    "\n",
    "<h4>\n",
    "    If the starting inventory in January was 26 cans of paint, determine the number of units of paint ordered in each of\n",
    "the months January to June, following the (s, S) policy you found above.\n",
    "</h4>"
   ]
  },
  {
   "cell_type": "code",
   "execution_count": 258,
   "metadata": {},
   "outputs": [
    {
     "name": "stdout",
     "output_type": "stream",
     "text": [
      "\n",
      "In January, the units of paint ordered is 162.0\n",
      "\n",
      "In February, the units of paint ordered is 0\n",
      "\n",
      "In March, the units of paint ordered is 0\n",
      "\n",
      "In April, the units of paint ordered is 96.0\n",
      "\n",
      "In May, the units of paint ordered is 0\n",
      "\n",
      "In June, the units of paint ordered is 0\n"
     ]
    }
   ],
   "source": [
    "Jan = S-(26); #stock = 63\n",
    "Feb = 0; # stock = 151\n",
    "March = 0; #stock = 118\n",
    "April = S-(118-26); #stock = 92\n",
    "May = 0; #stock = 157\n",
    "June = 0; #stock = 143\n",
    "#stock = 103 after June\n",
    "\n",
    "print(\"\\nIn January, the units of paint ordered is\", Jan,)\n",
    "print(\"\\nIn February, the units of paint ordered is\", Feb,)\n",
    "print(\"\\nIn March, the units of paint ordered is\", March,)\n",
    "print(\"\\nIn April, the units of paint ordered is\", April,)\n",
    "print(\"\\nIn May, the units of paint ordered is\", May,)\n",
    "print(\"\\nIn June, the units of paint ordered is\", June);"
   ]
  },
  {
   "cell_type": "markdown",
   "metadata": {},
   "source": [
    "<h4>\n",
    "    (c) Determine the (s, S) policy using the power approximation discussed in class.\n",
    "\n",
    "</h4>"
   ]
  },
  {
   "cell_type": "code",
   "execution_count": 266,
   "metadata": {},
   "outputs": [
    {
     "name": "stdout",
     "output_type": "stream",
     "text": [
      "The s,S policy using power approximation is: ( 26 , 46 )\n"
     ]
    }
   ],
   "source": [
    "mean = 28; #single period\n",
    "variance = 64;\n",
    "SD = math.sqrt(variance);\n",
    "\n",
    "Q = ((1.3*(math.pow(mean,0.494)))*(math.pow((K/h),0.506))*(math.pow((1+(variance/(math.pow(mean,2)))),0.116)));\n",
    "z = math.sqrt((Q*h)/(SD*p));\n",
    "\n",
    "new_s = round((0.973*mean)+(SD*((0.183/z)+(1.063)-(2.192*z))));\n",
    "new_S = round(new_s+Q);\n",
    "\n",
    "print(\"The s,S policy using power approximation is: (\",new_s,\",\",new_S,\")\");"
   ]
  },
  {
   "cell_type": "markdown",
   "metadata": {},
   "source": [
    "<h4>\n",
    "    (d) Compare the two (s, S) policies that you calculated in Part (b) and Part (c) with respect to the Type I service level\n",
    "that they provide.\n",
    "</h4>"
   ]
  },
  {
   "cell_type": "code",
   "execution_count": 271,
   "metadata": {},
   "outputs": [
    {
     "name": "stdout",
     "output_type": "stream",
     "text": [
      "The type I service level for (108,188) in % is: 95.73 \n",
      "The type I service level for (26,46) in % is: 48.4 \n",
      "Thus, the service level of the first is almost twice that of the second\n"
     ]
    }
   ],
   "source": [
    "z11 = (108-LeadTimeMean)/LeadTimeSD; z = 1.72\n",
    "z12 = (26-mean)/variance; z = -0.04\n",
    "\n",
    "t11 = 100*.9573; #from z table\n",
    "t12 = 100*.484; #from z table\n",
    "print(\"The type I service level for (108,188) in % is:\",t11,\n",
    "     \"\\nThe type I service level for (26,46) in % is:\",t12,\n",
    "     \"\\nThus, the service level of the first is almost twice that of the second\");"
   ]
  },
  {
   "cell_type": "markdown",
   "metadata": {},
   "source": [
    "<h2> Question 7 </h2>\n",
    "\n",
    "<h3> 7. Quick Print Inc. uses plain and three-hole punched paper for copying needs. Demand for each paper type is highly\n",
    "variable. Weekly demand for the plain paper is estimated to be normally distributed with mean 100 and standard\n",
    "deviation 65 (measured in boxes). Each week, a replenishment order is placed to the paper factory and the order arrives\n",
    "five weeks later. All copying orders that cannot be satisfied immediately due to lack of paper are back-ordered. The\n",
    "inventory holding cost is about \\$1 per box per year. Quick Print estimates that the backorder penalty cost is $20 per\n",
    "box. Assume that there are 4.33 weeks per month. </h3>\n",
    "\n",
    "<h4> \n",
    "    (a) Suppose that Quick Print decides to establish an order-up-to level of 700 for plain paper. At the start of this week,\n",
    "there are 523 boxes in inventory and 180 boxes on order. How much will Quick Print order this week?\n",
    "</h4>"
   ]
  },
  {
   "cell_type": "code",
   "execution_count": 280,
   "metadata": {},
   "outputs": [
    {
     "name": "stdout",
     "output_type": "stream",
     "text": [
      "The number of boxes Quick Print will order this week is: 0 \n",
      "The reason for this is because the Inventory Position is already above the order-up-to-level\n"
     ]
    }
   ],
   "source": [
    "#Plain = P, Three Hold Punched = THP\n",
    "Pmean = 100; #weekly demand\n",
    "PSD = 65; #mean and SD is boxes\n",
    "PVar = math.pow(PSD,2);\n",
    "h = 1; #per box per year\n",
    "tau = 5; #lead time in weeks\n",
    "p = 20;\n",
    "\n",
    "print(\"The number of boxes Quick Print will order this week is:\",0,\n",
    "     \"\\nThe reason for this is because the Inventory Position is already above the order-up-to-level\")"
   ]
  },
  {
   "cell_type": "markdown",
   "metadata": {},
   "source": [
    "<h4>\n",
    "    (b) Again, assume that Quick Print uses an order-up-to level of 700.\n",
    "</h4>\n",
    "\n",
    "<br />\n",
    "\n",
    "<h5>\n",
    "i. What is Quick Print’s Type I service level?\n",
    "</h5>\n",
    "\n",
    "<br />\n",
    "\n",
    "<h5>\n",
    "ii. What is Quick Print’s expected on-hand inventory?\n",
    "</h5>\n",
    "\n",
    "<br />\n",
    "\n",
    "<h5>\n",
    "iii. What is Quick Print’s expected on-order inventory?\n",
    "</h5>"
   ]
  },
  {
   "cell_type": "code",
   "execution_count": 318,
   "metadata": {},
   "outputs": [
    {
     "name": "stdout",
     "output_type": "stream",
     "text": [
      "508.0 685.0\n",
      "type I service level is: 0 \n",
      " expected on-hand inventory is: 0 \n",
      " expected on-order inventory is: 0\n"
     ]
    }
   ],
   "source": [
    "LeadTimeMean = ((Pmean*52)/52)*(tau);\n",
    "LeadTimeVariance = (PVar*52)*(tau/52);\n",
    "LeadTimeSD = math.sqrt(LeadTimeVariance);\n",
    "\n",
    "d = Pmean*52; #annual demand;\n",
    "Q0 = 700;\n",
    "\n",
    "#Iteration 1: R1 given Q0 and Q1 given R1\n",
    "FR1 = 1-((Q0*h)/(p*d)); #F(z) -> z value in z table\n",
    "Phi_z = round(norm.ppf(FR1),2);\n",
    "LeadTimeSD = round(math.sqrt(LeadTimeVariance),2);\n",
    "R1 = round((LeadTimeSD*Phi_z)+LeadTimeMean);\n",
    "\n",
    "\n",
    "s = R1;\n",
    "S = Q1+R1;\n",
    "\n",
    "print(s,S)\n",
    "\n",
    "SL = 0;\n",
    "OHInv = 0;\n",
    "OOInv = 0;\n",
    "print(\"type I service level is:\",SL,\n",
    "     \"\\n expected on-hand inventory is:\",OHInv,\n",
    "     \"\\n expected on-order inventory is:\",OOInv);"
   ]
  },
  {
   "cell_type": "markdown",
   "metadata": {},
   "source": [
    "<h4>\n",
    "    (c) What is Quick Print’s optimal order-up-to level for plain paper if Quick Print operates with a 85% in-stock probability\n",
    "(i.e., Type I service level)?\n",
    "\n",
    "</h4>"
   ]
  },
  {
   "cell_type": "code",
   "execution_count": 319,
   "metadata": {},
   "outputs": [
    {
     "name": "stdout",
     "output_type": "stream",
     "text": [
      "Quick Print's Optimal Order up to level is: 0\n"
     ]
    }
   ],
   "source": [
    "OptimalLevel = 0;\n",
    "print(\"Quick Print's Optimal Order up to level is:\",OptimalLevel);"
   ]
  },
  {
   "cell_type": "markdown",
   "metadata": {},
   "source": [
    "<h2> Question 8 </h2>\n",
    "\n",
    "<h3> 8. The monthly demand for the pack of party masks in a store is normally distributed with a mean of 150 units, and a\n",
    "standard deviation of 50 units. It costs \\$2.50 to the warehouse to purchase one mask and there is an order setup cost\n",
    "of \\$100 per order. When an order is placed, it takes two months to receive it. If the store is out-of-stock, the packs are\n",
    "backordered with a penalty cost of \\$4.50 per pack per month.  The warehouse is using an annual interest rate of 20\\% forholding costs. </h3>\n",
    "\n",
    "<h4> \n",
    "    (a) Find the mean and the standard deviation of the demand during lead time.\n",
    "</h4>"
   ]
  },
  {
   "cell_type": "code",
   "execution_count": 297,
   "metadata": {},
   "outputs": [
    {
     "name": "stdout",
     "output_type": "stream",
     "text": [
      "The Lead time mean is: 300.0 \n",
      "The Lead time SD is: 70.71\n"
     ]
    }
   ],
   "source": [
    "mean = 150; #montly\n",
    "tau = 2; #months\n",
    "SD = 50;\n",
    "c = 2.5;\n",
    "K = 100;\n",
    "i = .2;\n",
    "\n",
    "variance = math.pow(SD,2);\n",
    "LeadTimeMean = ((mean*12)/12)*(2);\n",
    "LeadTimeVariance = (variance*12)*(2/12);\n",
    "LeadTimeSD = round(math.sqrt(LeadTimeVariance),2);\n",
    "\n",
    "print(\"The Lead time mean is:\",LeadTimeMean,\"\\nThe Lead time SD is:\",LeadTimeSD);"
   ]
  },
  {
   "cell_type": "markdown",
   "metadata": {},
   "source": [
    "<h4>\n",
    "    (b) The store wants to find the optimal (Q, R) policy under this setting. For this, perform a single iteration (Start with\n",
    "Q0=EOQ and perform one iteration to obtain the corresponding R1 and Q1). Explain whether the solution you\n",
    "found at the end of this single iteration is optimal or not.\n",
    "\n",
    "</h4>"
   ]
  },
  {
   "cell_type": "code",
   "execution_count": 299,
   "metadata": {},
   "outputs": [
    {
     "name": "stdout",
     "output_type": "stream",
     "text": [
      "The obtained Q,R is: ( 255 , 359.0 ) and is not optimal because the reorder point is bigger than the quantity\n"
     ]
    }
   ],
   "source": [
    "mean = 150; #montly\n",
    "tau = 2; #months\n",
    "SD = 50;\n",
    "c = 2.5;\n",
    "K = 100;\n",
    "i = .2;\n",
    "p = 4.5;\n",
    "\n",
    "d = mean*12; #annual demand;\n",
    "Q0 = math.ceil(math.sqrt((2*K*d)/(h)));\n",
    "\n",
    "#Iteration 1: R1 given Q0 and Q1 given R1\n",
    "FR1 = 1-((Q0*h)/(p*d)); #F(z) -> z value in z table\n",
    "Phi_z = round(norm.ppf(FR1),2);\n",
    "LeadTimeSD = round(math.sqrt(LeadTimeVariance),2);\n",
    "R1 = round((LeadTimeSD*Phi_z)+LeadTimeMean);\n",
    "\n",
    "L_z = 0.114; #L(z) when z = 0.83\n",
    "nR1 = LeadTimeSD*L_z;\n",
    "Q1 = round(math.sqrt(((2*d)*(K+(p*nR1)))/(h)));\n",
    "\n",
    "print(\"The obtained Q,R is: (\",Q1,\",\",R1,\")\",\"and is not optimal because the reorder point is bigger than the quantity\");\n"
   ]
  },
  {
   "cell_type": "markdown",
   "metadata": {},
   "source": [
    "<h4>\n",
    "    (c) Find the optimal (Q, R) policy for a Type-I service level of 95%.\n",
    "\n",
    "</h4>"
   ]
  },
  {
   "cell_type": "code",
   "execution_count": 300,
   "metadata": {},
   "outputs": [
    {
     "name": "stdout",
     "output_type": "stream",
     "text": [
      "The optimal Q,R policy for for type 1 service 95% is: ( 226 , 359.0 )\n"
     ]
    }
   ],
   "source": [
    "sl = .95; #z = \n",
    "z = 1.65;\n",
    "L_z = 0.02;\n",
    "R1 = round((LeadTimeSD*Phi_z)+LeadTimeMean);\n",
    "\n",
    "nR1 = LeadTimeSD*L_z;\n",
    "Q1 = round(math.sqrt(((2*d)*(K+(p*nR1)))/(h)));\n",
    "\n",
    "print(\"The optimal Q,R policy for for type 1 service 95% is: (\",Q1,\",\",R1,\")\");"
   ]
  },
  {
   "cell_type": "markdown",
   "metadata": {},
   "source": [
    "<h4>\n",
    "    (d) Suppose the warehouse decides to apply a (Q, R) policy with Q = 800 units and R = 400 units. Find the type-II\n",
    "service level and the imputed shortage cost of this policy.\n",
    "</h4>"
   ]
  },
  {
   "cell_type": "code",
   "execution_count": 301,
   "metadata": {},
   "outputs": [
    {
     "name": "stdout",
     "output_type": "stream",
     "text": [
      "-294.343091500495\n"
     ]
    }
   ],
   "source": [
    "#R = SD*z + mu\n",
    "z = (400/LeadTimeSD)-LeadTimeMean;\n",
    "\n",
    "print(z);"
   ]
  },
  {
   "cell_type": "markdown",
   "metadata": {},
   "source": [
    "<h2> Question 9 </h2>\n",
    "\n",
    "<h3> 9. A newsboy purchases 56 newspapers to satisfy the demand for the next day’s newspaper at a cost of \\$0.50 per unit.\n",
    "Unsold newspapers can be returned for a refund of \\$0.20. He knows that the demand for the newspapers for a single day\n",
    "is normally distributed with a mean of 35 and a standard deviation of 12. At what price should he sell the newspapers\n",
    "to make his purchase quantity optimal?\n",
    " </h3>\n"
   ]
  },
  {
   "cell_type": "code",
   "execution_count": 53,
   "metadata": {},
   "outputs": [
    {
     "name": "stdout",
     "output_type": "stream",
     "text": [
      "The price he should sell the newspapers to make his purchase quantity optimal is: $ 7.69\n"
     ]
    }
   ],
   "source": [
    "mean = 35;\n",
    "SD = 12;\n",
    "x = 7.69; # I experimented with the price of selling cost until the optimum purchasing quantity is closest to 56 \n",
    "overage = .50-.20;\n",
    "underage = x-.50;\n",
    "\n",
    "CR = underage/(overage+underage);\n",
    "Phi_z = norm.ppf(CR);\n",
    "\n",
    "Q = (SD*Phi_z)+mean;\n",
    "\n",
    "FinalPrice = x;\n",
    "\n",
    "print(\"The price he should sell the newspapers to make his purchase quantity optimal is: $\",FinalPrice);"
   ]
  },
  {
   "cell_type": "markdown",
   "metadata": {},
   "source": [
    "<h2> Question 10 </h2>\n",
    "\n",
    "<h3> 10. A textile company Koton, uses a periodic review inventory control system to manage its dye inventory. The annual\n",
    "demand for a particular dye that the company uses heavily is estimated to be normally distributed with a mean of 10,000\n",
    "gallons and a standard deviation of 3,000 gallons. Each week, a replenishment order is placed to the company’s supplier,\n",
    "and the order arrives three weeks later. Any shortages in dye inventory results in a halting of manufacturing process\n",
    "until a delivery is received, and hence, the management wants to ensure a high level of availability for this dye. </h3>\n",
    "\n",
    "<h4> \n",
    "    (a) Suppose that Koton decides to establish an order-up-to level of 2,000 gallons for the dye. At the start of this week,\n",
    "there are 1,265 gallons in inventory and 430 gallons of dye on order. How much dye will Koton order this week?\n",
    "</h4>"
   ]
  },
  {
   "cell_type": "code",
   "execution_count": 315,
   "metadata": {},
   "outputs": [
    {
     "name": "stdout",
     "output_type": "stream",
     "text": [
      "The number of gallons of dye Koton will order this week is: 305\n"
     ]
    }
   ],
   "source": [
    "mean = 10000; #annual\n",
    "SD = 3000;\n",
    "variance = math.pow(SD,2);\n",
    "tau = 3; # lead time in weeks\n",
    "\n",
    "LeadTimeMean = ((mean)/52)*(tau);\n",
    "LeadTimeVariance = (variance)*(tau/52);\n",
    "LeadTimeSD = math.sqrt(LeadTimeVariance);\n",
    "\n",
    "d = mean; #annual demand;\n",
    "Q0 = 2000;\n",
    "\n",
    "#Iteration 1: R1 given Q0 and Q1 given R1\n",
    "FR1 = 1-((Q0*h)/(p*d)); #F(z) -> z value in z table\n",
    "Phi_z = round(norm.ppf(FR1),2);\n",
    "LeadTimeSD = round(math.sqrt(LeadTimeVariance),2);\n",
    "R1 = round((LeadTimeSD*Phi_z)+LeadTimeMean);\n",
    "\n",
    "s = R1;\n",
    "S = Q1+R1;\n",
    "\n",
    "Dye = 2000-(1265+430);\n",
    "\n",
    "print(\"The number of gallons of dye Koton will order this week is:\",Dye)"
   ]
  },
  {
   "cell_type": "markdown",
   "metadata": {},
   "source": [
    "<h4>\n",
    "    (b) Again, assume that Koton uses an order-up-to level of 2,000 gallons.\n",
    "</h4>\n",
    "\n",
    "<br />\n",
    "\n",
    "<h5>\n",
    "i. What is Koton’s Type I service level?\n",
    "</h5>\n",
    "\n",
    "<br />\n",
    "\n",
    "<h5>\n",
    "ii. What is Koton’s expected on-hand inventory of the dye?\n",
    "</h5>"
   ]
  },
  {
   "cell_type": "code",
   "execution_count": 317,
   "metadata": {},
   "outputs": [
    {
     "name": "stdout",
     "output_type": "stream",
     "text": [
      "Koton's type I service level is: 0 \n",
      " Koton's expected on-hand inventory of dye is: 0\n"
     ]
    }
   ],
   "source": [
    "SL = 0;\n",
    "Inv = 0;\n",
    "print(\"Koton's type I service level is:\",SL,\n",
    "     \"\\n Koton's expected on-hand inventory of dye is:\",Inv);"
   ]
  },
  {
   "cell_type": "markdown",
   "metadata": {},
   "source": [
    "<h4>\n",
    "    (c) What is Koton’s optimal order-up-to level for the dye if Koton operates with an 85% in-stock probability (i.e.,\n",
    "Type-I service level)?\n",
    "</h4>"
   ]
  },
  {
   "cell_type": "code",
   "execution_count": 320,
   "metadata": {},
   "outputs": [
    {
     "name": "stdout",
     "output_type": "stream",
     "text": [
      "Koton's optimal order up to level is: 0\n"
     ]
    }
   ],
   "source": [
    "OptimalLevel = 0;\n",
    "print(\"Koton's optimal order up to level is:\",OptimalLevel);"
   ]
  },
  {
   "cell_type": "markdown",
   "metadata": {},
   "source": [
    "<h2> Question 11 </h2>\n",
    "\n",
    "<h3> 11. Suppose that in the newsvendor problem, a limit existed on the number of units that could be disposed at value, v dollars\n",
    "(where v ≤ c, the unit purchasing cost). Additional units are scrapped with no revenue or additional cost. The following\n",
    "defines the necessary notation:\n",
    "</h3>\n",
    "\n",
    "![test](q11p1.PNG)\n",
    "\n",
    "<h4> \n",
    "    (a) Without any analysis, intuitively, state whether this limit would increase or decrease the optimal ordering quantity,\n",
    "all other things being equal. Explain your reasoning.\n",
    "\n",
    "</h4>"
   ]
  },
  {
   "cell_type": "code",
   "execution_count": null,
   "metadata": {},
   "outputs": [],
   "source": [
    "# This limit would DECREASE optimal ordering quantity (all other things being equal). The reason\n",
    "# for this is because, intuitively, if only a certain number of units could be disposed resulting\n",
    "# in a lower overage cost (making it cheaper to buy a larger quantity of items), then it would become\n",
    "# more expensive to order a larger quantity of items due to the risk of not being able to dispose\n",
    "# of them all and get a return on some of the money. Thus, even though the overage might still be \n",
    "# more effective, this will decrease ordering quantity."
   ]
  },
  {
   "cell_type": "markdown",
   "metadata": {},
   "source": [
    "<h4>\n",
    "    (b) Write out the new total expected cost expression (i.e., sum of the expected overage and underage costs).\n",
    "\n",
    "</h4>"
   ]
  },
  {
   "cell_type": "code",
   "execution_count": null,
   "metadata": {},
   "outputs": [],
   "source": [
    "# The previous formula using this notation is:\n",
    "    \n",
    "    # total expected cost (TEC) = underage / overage+underage = (p-c) / [ (c-v) + (p-c) ]\n",
    "        \n",
    "        # where underage = selling price - unit cost (p-c);    &    overage = unit cost - salvage value (c-v);\n",
    "\n",
    "# The new total expected cost expression would be as follows (using the notation provided):\n",
    "\n",
    "    # total expected cost = (p-c) / [ (Q-V)*(c) + V*(c-v) + (p-c) ]"
   ]
  },
  {
   "cell_type": "markdown",
   "metadata": {},
   "source": [
    "<h4>\n",
    "    (c) Obtain the optimal order quantity from this cost function. (Hint: think about the values of Q, V and the demand\n",
    "in relation to each other.)\n",
    "\n",
    "</h4>"
   ]
  },
  {
   "cell_type": "code",
   "execution_count": null,
   "metadata": {},
   "outputs": [],
   "source": [
    "# The optimal order quantity can be found by applying the new cost function to the old equation, thus:\n",
    "\n",
    "    # OOQ => P(D <= Q* | V >= 0) = F(Q*) = (p-c) / [ (Q-V)*(c) + V*(c-v) + (p-c) ]\n",
    "    \n",
    "# Because there is no limitation  on salvaring paper for future issues, this can't numerically be applied to the Newsvendor\n",
    "# problem with any signficance. In that case the OOQ would remain the same: 15"
   ]
  },
  {
   "cell_type": "markdown",
   "metadata": {},
   "source": [
    "<h2> Question 12 </h2>\n",
    "\n",
    "<h3> 12. Office-Co sells secretarial chairs. Annual demand for the chairs is normally distributed with a mean of 1040 chairs and a\n",
    "standard deviation of 51 chairs. Office-Co checks inventory at the end of each week (typically a Saturday evening) and\n",
    "if necessary, puts in an order to its supplier. It costs \\$100 to place an order and the lead time to receive an order is two\n",
    "weeks. Office-Co estimates that if a customer wants a chair when the company is out-of-stock, the loss-of-goodwill cost\n",
    "is \\$50 per chair. Each chair costs \\$60 and is sold for $100. The holding cost of the chairs is based on a 30% annual\n",
    "interest rate. (There are 52 weeks in a year) </h3>\n",
    "\n",
    "<h4> \n",
    "    (a) Discuss why it is appropriate to use an (s, S) inventory control policy in this case. Under what condition would you\n",
    "use a basestock (order-up-to) policy?\n",
    "\n",
    "</h4>"
   ]
  },
  {
   "cell_type": "code",
   "execution_count": null,
   "metadata": {},
   "outputs": [],
   "source": [
    "# (s,S) is appropriate because of the periodic review that based on inventory and the positive fixed costs"
   ]
  },
  {
   "cell_type": "markdown",
   "metadata": {},
   "source": [
    "<h4>\n",
    "    (b) Using the (Q, R) solution, determine the appropriate values of the (s, S) inventory control policy. Use the EOQ\n",
    "value for the ordering quantity (i.e., no need for iterations).\n",
    "</h4>"
   ]
  },
  {
   "cell_type": "code",
   "execution_count": 322,
   "metadata": {},
   "outputs": [
    {
     "name": "stdout",
     "output_type": "stream",
     "text": [
      "( 59.0 , 236.0 )\n"
     ]
    }
   ],
   "source": [
    "mean = 1040; #annual demand\n",
    "WeeklyMean = 1040/52;\n",
    "SD = 51\n",
    "variance = 51*51;\n",
    "K = 100;\n",
    "tau = 2;\n",
    "p = 50;\n",
    "c = 60;\n",
    "i - .3;\n",
    "h = i*c;\n",
    "\n",
    "\n",
    "LeadTimeMean = ((WeeklyMean)*(tau));\n",
    "LeadTimeVariance = (variance/52)*(tau);\n",
    "LeadTimeSD = math.sqrt(LeadTimeVariance);\n",
    "\n",
    "d = WeeklyMean*52; #annual demand;\n",
    "Q0 = math.ceil(math.sqrt((2*K*d)/(h)));\n",
    "\n",
    "#Iteration 1: R1 given Q0 and Q1 given R1\n",
    "FR1 = 1-((Q0*h)/(p*d)); #F(z) -> z value in z table\n",
    "Phi_z = round(norm.ppf(FR1),2);\n",
    "LeadTimeSD = round(math.sqrt(LeadTimeVariance),2);\n",
    "R1 = round((LeadTimeSD*Phi_z)+LeadTimeMean);\n",
    "\n",
    "L_z = 0.16; #L(z) when z = 0.62\n",
    "nR1 = LeadTimeSD*L_z;\n",
    "Q1 = round(math.sqrt(((2*d)*(K+(p*nR1)))/(h)));\n",
    "\n",
    "s = R1;\n",
    "S = Q1+R1;\n",
    "\n",
    "print(\"(\",s,\",\",S,\")\");"
   ]
  },
  {
   "cell_type": "markdown",
   "metadata": {},
   "source": [
    "<h4>\n",
    "    (c) Suppose the company wants to have, on average, at most eight weeks with stockouts every year. Would the above\n",
    "calculated policy satisfy this requirement? Justify your answer with calculations.\n",
    "\n",
    "</h4>"
   ]
  },
  {
   "cell_type": "code",
   "execution_count": null,
   "metadata": {},
   "outputs": [],
   "source": [
    "#The calculated policy WOuLD satisfy this requirement because ..."
   ]
  },
  {
   "cell_type": "markdown",
   "metadata": {},
   "source": [
    "<h4>\n",
    "    (d) Can you propose a policy that satisfies the requirement of “at most eight weeks with stockouts per year” with less\n",
    "cost than the one calculated in part (b)? How much can you improve on the expected inventory holding cost?\n",
    "</h4>"
   ]
  },
  {
   "cell_type": "code",
   "execution_count": null,
   "metadata": {},
   "outputs": [],
   "source": [
    "# The optimal cost was found so one with less cost cannot be found"
   ]
  },
  {
   "cell_type": "markdown",
   "metadata": {},
   "source": [
    "<h4>\n",
    "    (e) Office-co is considering investing in technology so that they can move from an (s, S) policy to a (Q, R) policy.\n",
    "Calculate a (Q, R) policy by performing a single iteration (Start with Q0=EOQ and perform one iteration to obtain\n",
    "the corresponding R1 and Q1).\n",
    "\n",
    "</h4>"
   ]
  },
  {
   "cell_type": "code",
   "execution_count": 323,
   "metadata": {},
   "outputs": [
    {
     "name": "stdout",
     "output_type": "stream",
     "text": [
      "The Q,R policy is: ( 177 , 59.0 )\n"
     ]
    }
   ],
   "source": [
    "print(\"The Q,R policy is: (\",Q1,\",\",R1,\")\");"
   ]
  },
  {
   "cell_type": "markdown",
   "metadata": {},
   "source": [
    "<h4>\n",
    "    (f) What is the Type I and Type II service levels obtained by the (Q, R) policy that you have calculated in Part (e)?\n",
    "\n",
    "</h4>"
   ]
  },
  {
   "cell_type": "code",
   "execution_count": 325,
   "metadata": {},
   "outputs": [
    {
     "name": "stdout",
     "output_type": "stream",
     "text": [
      "The type 1 is: 90 \n",
      "the type 2 is: 90\n"
     ]
    }
   ],
   "source": [
    "sl1 = 90;\n",
    "sl2 = 90;\n",
    "print(\"The type 1 is:\",sl1,\n",
    "     \"\\nthe type 2 is:\",sl2);"
   ]
  },
  {
   "cell_type": "markdown",
   "metadata": {},
   "source": [
    "<h4>\n",
    "    (g) Discuss how you would justify the costs of this technology. What kinds of systems would enable the company to\n",
    "“move from an (s, S) policy to a (Q, R) policy” ?\n",
    "\n",
    "</h4>"
   ]
  },
  {
   "cell_type": "code",
   "execution_count": null,
   "metadata": {},
   "outputs": [],
   "source": [
    "# In order to justify the costs of this technology, the kinds of systems needed to move from an s,S to a Q,R would be ..."
   ]
  },
  {
   "cell_type": "code",
   "execution_count": null,
   "metadata": {},
   "outputs": [],
   "source": []
  }
 ],
 "metadata": {
  "kernelspec": {
   "display_name": "Python 3",
   "language": "python",
   "name": "python3"
  },
  "language_info": {
   "codemirror_mode": {
    "name": "ipython",
    "version": 3
   },
   "file_extension": ".py",
   "mimetype": "text/x-python",
   "name": "python",
   "nbconvert_exporter": "python",
   "pygments_lexer": "ipython3",
   "version": "3.7.0"
  }
 },
 "nbformat": 4,
 "nbformat_minor": 2
}
