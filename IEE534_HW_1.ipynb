{
 "cells": [
  {
   "cell_type": "code",
   "execution_count": 1,
   "metadata": {},
   "outputs": [],
   "source": [
    "import math; "
   ]
  },
  {
   "cell_type": "markdown",
   "metadata": {},
   "source": [
    "<h1> IEE534 Assignment 1 </h1>\n",
    "\n",
    "<h2> Question 1 </h2>\n",
    "\n",
    "<h3> 1. The Kirei-Hana Japanese Steak House in San Francisco consumes 3000 pounds of sirloin steak each month. Yama Hirai, the new restraurant manager, recently completed an MBA degree. He learned that the steak was replenished using an EOQ value of 2000 pounds. This EOQ value was computed assuming an interest rate of 36 percent per year. Assume that the current cost of the sirloin steak to the steak house is $4 per pound. </h3>\n",
    "\n",
    "<h4> \n",
    "    (a) What is the setup cost used in determining the EOQ value?\n",
    "</h4>"
   ]
  },
  {
   "cell_type": "code",
   "execution_count": 2,
   "metadata": {},
   "outputs": [
    {
     "name": "stdout",
     "output_type": "stream",
     "text": [
      "Setup Cost = 80.0 dollars per pound\n"
     ]
    }
   ],
   "source": [
    "#setup cost = ordering fee*(Demand/Quantity) = K*(D/Q)\n",
    "\n",
    "d = 3000; #per month\n",
    "D = 12*3000; #per year\n",
    "EOQ = 2000;\n",
    "#K = ?; not sure\n",
    "i = 0.36;\n",
    "c = 4; #dollars/lb\n",
    "\n",
    "#EOQ = sqrt([2*K*D] / [i*c]) where i = holding cost & c = unit cost\n",
    "#EOQ^2 * (ic)= 2*K*D\n",
    "#K = (EOQ^2*i*c)/(2*D)\n",
    "\n",
    "K = ((EOQ*EOQ)*i*c)/(2*D)\n",
    "print(\"Setup Cost =\",K, \"dollars per pound\")\n"
   ]
  },
  {
   "cell_type": "markdown",
   "metadata": {},
   "source": [
    "<h4>\n",
    "(b) Mr. Hirai received an offer from a meat wholesaler in which a discount of 5 percent would be given if the steak house purchased steak in quantities of 3000 pounds or more. Should Mr. Hirai accept the offer from the wholesaler? If so, how much can be saved?\n",
    "</h4>"
   ]
  },
  {
   "cell_type": "code",
   "execution_count": 3,
   "metadata": {},
   "outputs": [
    {
     "name": "stdout",
     "output_type": "stream",
     "text": [
      "EOQ(c1) =  2000.0 and EOQ(c2) 2051.9567041703085 \n",
      "\n",
      "Because EOQ(c2) is < 3000 it is not realizable, thus: \n",
      "\n",
      "TC(c1) =  146880.0 and TC(3000) 139812.0 \n",
      "\n",
      "Mr. Hirai should accept the offer because 7068.0 could be saved every year.\n"
     ]
    }
   ],
   "source": [
    "c1 = 4;\n",
    "c2 = .95*4;\n",
    "\n",
    "EOQ_c1 = math.sqrt((2*K*D)/(i*c1))\n",
    "EOQ_c2 = math.sqrt((2*K*D)/(i*c2))\n",
    "print(\"EOQ(c1) = \",EOQ_c1, \"and EOQ(c2)\",EOQ_c2,\"\\n\")\n",
    "print(\"Because EOQ(c2) is < 3000 it is not realizable, thus: \\n\")\n",
    "\n",
    "TC_c1 = ((K*(D/EOQ_c1)) + c1*D + i*c1*(EOQ_c1/2))\n",
    "TC_3000 = ((K*(D/3000)) + c2*D + i*c2*(3000/2))\n",
    "\n",
    "print(\"TC(c1) = \",TC_c1, \"and TC(3000)\",TC_3000,\"\\n\")\n",
    "\n",
    "Savings = TC_c1 - TC_3000;\n",
    "print(\"Mr. Hirai should accept the offer because\",Savings,\n",
    "     \"could be saved every year.\")"
   ]
  },
  {
   "cell_type": "markdown",
   "metadata": {},
   "source": [
    "<h2> Question 2 </h2>\n",
    "\n",
    "<h3> \n",
    "A company uses 1500 units per year of a certain subassembly that has an annual holding cost of \\$45 per unit. Placing an order costs \\$150 and the lead time between the order placement and its delivery to the company is 26 working days. Answer the following questions assuming that the annual business year is equal to 300 days.\n",
    "</h3>"
   ]
  },
  {
   "cell_type": "markdown",
   "metadata": {},
   "source": [
    "<h4> \n",
    "(a) Calculate the Economic Order Quantity (EOQ) for the subassembly \n",
    "</h4>"
   ]
  },
  {
   "cell_type": "code",
   "execution_count": 22,
   "metadata": {},
   "outputs": [
    {
     "name": "stdout",
     "output_type": "stream",
     "text": [
      "EOQ =  100.0\n"
     ]
    }
   ],
   "source": [
    "D = 1500;\n",
    "K = 150;\n",
    "h = 45;\n",
    "EOQ = math.sqrt((2*K*D)/(h));\n",
    "Q=EOQ;\n",
    "print(\"EOQ = \",EOQ)"
   ]
  },
  {
   "cell_type": "markdown",
   "metadata": {},
   "source": [
    "<h4> (b) Calculate the optimal reorder level.\n",
    " </h4>"
   ]
  },
  {
   "cell_type": "code",
   "execution_count": 25,
   "metadata": {},
   "outputs": [
    {
     "name": "stdout",
     "output_type": "stream",
     "text": [
      "order every 0.06 years\n"
     ]
    }
   ],
   "source": [
    "T = Q/D;\n",
    "print(\"order every\",T, \"years\")"
   ]
  },
  {
   "cell_type": "markdown",
   "metadata": {},
   "source": [
    "<h4> (c) Calculate the average inventory on order. (Hint: To calculate the average inventory on order, draw inventory\n",
    "on order versus time. Calculate the amount of inventory on order in each “cycle” to determine the appropriate\n",
    "average level over time.) </h4>"
   ]
  },
  {
   "cell_type": "code",
   "execution_count": 32,
   "metadata": {},
   "outputs": [
    {
     "name": "stdout",
     "output_type": "stream",
     "text": [
      "Average Inventory on order is 220\n"
     ]
    }
   ],
   "source": [
    "ExpectedInventoryPerDay = 1500/300;\n",
    "DaysUntilReorder = T*300\n",
    "InventoryNeededDuringLeadTime = 26*5;\n",
    "InventoryNeededDuringCycle = 18*5;\n",
    "AvgInventoryOnOrder = InventoryNeededDuringLeadTime + InventoryNeededDuringCycle;\n",
    "print(\"Average Inventory on order is\",AvgInventoryOnOrder)"
   ]
  },
  {
   "cell_type": "markdown",
   "metadata": {},
   "source": [
    "<h4> (d) What is the resulting optimal annual holding + setup cost?\n",
    " </h4>"
   ]
  },
  {
   "cell_type": "code",
   "execution_count": 33,
   "metadata": {},
   "outputs": [
    {
     "name": "stdout",
     "output_type": "stream",
     "text": [
      "Resulting Optimal Annual Holding + Setup Cost is 2175.0\n"
     ]
    }
   ],
   "source": [
    "AnnualHolding = h*(Q/2)\n",
    "\n",
    "#K = (EOQ^2*i*c)/(2*D)\n",
    "SetupCost = ((EOQ*EOQ)*h)/(2*D)\n",
    "\n",
    "Total = AnnualHolding + SetupCost;\n",
    "print(\"Resulting Optimal Annual Holding + Setup Cost is\",Total)"
   ]
  },
  {
   "cell_type": "markdown",
   "metadata": {},
   "source": [
    "<h4> (e) Suppose that the company does not want to spend more than an average of $1275 for fixed costs of ordering\n",
    "per year. What ordering quantity should they use in this case? </h4>"
   ]
  },
  {
   "cell_type": "code",
   "execution_count": 37,
   "metadata": {},
   "outputs": [
    {
     "name": "stdout",
     "output_type": "stream",
     "text": [
      "In this case they should use the ordering quantity of 188\n"
     ]
    }
   ],
   "source": [
    "OrderingCost = 150;\n",
    "FixedCostLimit = 1275;\n",
    "NumberOfOrders = math.floor(FixedCostLimit/OrderingCost);\n",
    "FinalOrderQuantity = math.ceil(D/NumberOfOrders);\n",
    "print(\"In this case they should use the ordering quantity of\",FinalOrderQuantity)"
   ]
  },
  {
   "cell_type": "markdown",
   "metadata": {},
   "source": [
    "<h4>\n",
    "(f) Suppose that the supplier is now offering the following delivery schedule: 40% of the order will be delivered\n",
    "immediately and the remaining 60% of the order will be delivered 10 days after the order. Find an ordering\n",
    "quantity that minimizes the average annual holding cost.\n",
    "</h4."
   ]
  },
  {
   "cell_type": "code",
   "execution_count": 42,
   "metadata": {},
   "outputs": [
    {
     "name": "stdout",
     "output_type": "stream",
     "text": [
      "Ordering Quantity that minimizes holding cost is 125.0\n"
     ]
    }
   ],
   "source": [
    "#Assuming an extension of part (e):\n",
    "#Technically to minimize holding cost you would have to maximize ordering cost\n",
    "#Thus:\n",
    "DailyNeed = 1500/300;\n",
    "TenDayNeed = DailyNeed*10;\n",
    "RemainingNeed = TenDayNeed*(3/2);\n",
    "TotalOrderQuantity = TenDayNeed + RemainingNeed\n",
    "print(\"Ordering Quantity that minimizes holding cost is\",TotalOrderQuantity)"
   ]
  },
  {
   "cell_type": "markdown",
   "metadata": {},
   "source": [
    "<h2> Question 3 </h2>\n",
    "\n",
    "<h3> A farm tractor manufacturing company called HNC in Detroit, Michigan is using a special environment friendly\n",
    "engine in its brand new tractor model. The tractor sales for this model show a fairly steady demand of 5,600\n",
    "tractors per year. HNC purchases these engines from an engine producer in Detroit area at a price of \\$4,000.\n",
    "This supplier sends the engines in batches of 100 immediately when HNC orders (i.e., zero lead time). It costs\n",
    "HNC \\$10,000 to place an order. Inventory holding costs are based on an annual interest rate of 20% and HNC\n",
    "works 50 weeks in a year.\n",
    "</h3>\n",
    "\n",
    "<h4> \n",
    "(a) Find the current cycle time between the orders (i.e., length of the reorder interval).\n",
    "</h4>\n"
   ]
  },
  {
   "cell_type": "code",
   "execution_count": null,
   "metadata": {},
   "outputs": [],
   "source": [
    "D = 5600;\n",
    "c = 4000;\n"
   ]
  },
  {
   "cell_type": "markdown",
   "metadata": {},
   "source": [
    "<h4>\n",
    "(b) Suppose there is a positive lead-time for delivery of the engines from supplier. Calculate the reorder point\n",
    "R if the promised lead time is one week.\n",
    "\n",
    "</h4>"
   ]
  },
  {
   "cell_type": "code",
   "execution_count": null,
   "metadata": {},
   "outputs": [],
   "source": []
  },
  {
   "cell_type": "markdown",
   "metadata": {},
   "source": [
    "<h4>\n",
    "(c) HNC realized that ordering batches of 100 is not the optimal policy. Find (a) the optimal number of engines\n",
    "to order (i.e., the EOQ value), and (b) the optimal reorder interval.\n",
    "</h4>"
   ]
  },
  {
   "cell_type": "code",
   "execution_count": null,
   "metadata": {},
   "outputs": [],
   "source": []
  },
  {
   "cell_type": "markdown",
   "metadata": {},
   "source": [
    "<h4>\n",
    "(d) How much more does it cost HNC to use Q = 100 instead of the EOQ that you calculated in part (c)?\n",
    "\n",
    "</h4>"
   ]
  },
  {
   "cell_type": "code",
   "execution_count": null,
   "metadata": {},
   "outputs": [],
   "source": []
  },
  {
   "cell_type": "markdown",
   "metadata": {},
   "source": [
    "<h4>\n",
    "(e) Suppose that the engine supplier is offering a quantity discount applied to all units with the following\n",
    "schedule. If the ordering quantity, Q, is less than 200, then the unit price is \\$4,000. If a quantity between\n",
    "200 and 399 is purchased, then the unit price is \\$3,800. And finally, if 400 or more units are ordered, the\n",
    "unit price is equal to $3,400. What is the optimal order quantity in this case?\n",
    "</h4>"
   ]
  },
  {
   "cell_type": "code",
   "execution_count": null,
   "metadata": {},
   "outputs": [],
   "source": []
  },
  {
   "cell_type": "markdown",
   "metadata": {},
   "source": [
    "<h4>\n",
    "(f) Now, suppose that HNC decided to consider the option of producing the engines in-house. The production\n",
    "capacity allows HNC to produce 11,200 engines per year. The cost of starting a production run is \\$4,000\n",
    "but each engine cost them half the price of outsourcing (namely \\$2,000 per engine). Should HNC make\n",
    "the engines in-house, or buy them from the supplier? Substantiate your answer by comparing the optimal\n",
    "annual costs of each option. (Hint: To answer this question, make use of the Economic Production Lotsizing\n",
    "(EPL) model)\n",
    "</h4>"
   ]
  },
  {
   "cell_type": "code",
   "execution_count": null,
   "metadata": {},
   "outputs": [],
   "source": []
  },
  {
   "cell_type": "markdown",
   "metadata": {},
   "source": [
    "<h2> Question 4 </h2>\n",
    "\n",
    "<h3>  \n",
    "Executive Office Supply Co. is offering all-unit discounts on the purchase of boxes of letter-size envelopes. If the order size is 0 to 1,299, the buyer receives no discount and each box costs \\$10.00. If the order size is 1,300 to\n",
    "1,799, then the buyer receives a discount and each box costs $8.00. If the order size is 1,800 or above, the buyer receives a discount and each box costs \\$7.00.\n",
    "</h3>\n",
    "<br/>\n",
    "<h3>\n",
    "PK Worldwide Overnight Express is contemplating a large quantity purchase from Executive Office Supply Co. Her company has more than a thousand locations throughout the world and each location needs envelopes. PK estimates that her company’s annual demand for envelopes is 10,000 boxes, the inventory holding costs are computed using a 20% annual interest rate, and the ordering costs are \\$150 per order. The following table includes EOQ calculations for this problem.\n",
    "</h3>\n",
    "\n",
    "<h4> \n",
    "(a) Complete the missing information indicated with the question mark (?) in the table.\n",
    "</h4>\n"
   ]
  },
  {
   "cell_type": "code",
   "execution_count": null,
   "metadata": {},
   "outputs": [],
   "source": []
  },
  {
   "cell_type": "markdown",
   "metadata": {},
   "source": [
    "<h4>\n",
    "(b) Outline below how you would find the optimal ordering quantity for PK Worldwide Overnight Express in\n",
    "the minimum number of steps. Put each calculation/operation in one step. Note that points will be\n",
    "deducted for any unnecessary steps in your algorithm.\n",
    "Step 1.\n",
    "Step 2.\n",
    "Step 3.\n",
    "Step 4.\n",
    "Step 5.\n",
    "\n",
    "</h4>"
   ]
  },
  {
   "cell_type": "code",
   "execution_count": null,
   "metadata": {},
   "outputs": [],
   "source": []
  },
  {
   "cell_type": "markdown",
   "metadata": {},
   "source": [
    "<h4>\n",
    "(c) What is the optimal ordering quantity?\n",
    "\n",
    "</h4>"
   ]
  },
  {
   "cell_type": "code",
   "execution_count": null,
   "metadata": {},
   "outputs": [],
   "source": []
  },
  {
   "cell_type": "markdown",
   "metadata": {},
   "source": [
    "<h4>\n",
    "(d) Executive Office Supply Co. has changed the discount policy to an incremental-discounting scheme.\n",
    "</h4>\n",
    "<br />\n",
    "<h5>\n",
    "i. Determine the average purchasing cost function (i.e., what we called P C(Q)/Q function for each range\n",
    "of ordering quantity)\n",
    "</h5>\n",
    "<h5>\n",
    "ii. As before, fill in the blanks in the table. \n",
    "</h5>\n",
    "<br />\n",
    "<h5>\n",
    "iii. As before, outline below how you would find the optimal ordering quantity for PK Worldwide Overnight\n",
    "Express in this case, in the minimum number of steps.\n",
    "Step 1.\n",
    "Step 2.\n",
    "Step 3.\n",
    "Step 4.\n",
    "Step 5.\n",
    "</h5>\n",
    "<br />\n",
    "<h5>\n",
    "iv. What is the optimal ordering quantity in this case?\n",
    "</h5>"
   ]
  },
  {
   "cell_type": "code",
   "execution_count": null,
   "metadata": {},
   "outputs": [],
   "source": []
  },
  {
   "cell_type": "markdown",
   "metadata": {},
   "source": [
    "<h2> Question 5 </h2>\n",
    "\n",
    "<h3> \n",
    "A particular type of stainless-steel bolts are consumed in a factory at a fairly steady rate of 180 per week. The bolts cost the plant five cents each. It costs the plant $75 to initiate an order, and holding costs are based on an\n",
    "annual interest rate of 25%.\n",
    "</h3>\n",
    "\n",
    "<h4> \n",
    "(a) Determine the optimal number of bolts for the plant to purchase and the time between the placement of\n",
    "orders\n",
    "</h4>\n"
   ]
  },
  {
   "cell_type": "code",
   "execution_count": null,
   "metadata": {},
   "outputs": [],
   "source": []
  },
  {
   "cell_type": "markdown",
   "metadata": {},
   "source": [
    "<h4>\n",
    "(b) Calculate the optimal annual holding cost and setup cost for this item. Explain why they are equal at\n",
    "optimality.\n"
   ]
  },
  {
   "cell_type": "code",
   "execution_count": null,
   "metadata": {},
   "outputs": [],
   "source": []
  },
  {
   "cell_type": "markdown",
   "metadata": {},
   "source": [
    "<h4>\n",
    "(c) Suppose the minimum reorder interval is one month and all order cycles are placed on a power-of-two multiple\n",
    "of months in order to permit truck sharing with orders of order parts. What is the least-cost reorder interval\n",
    "under this restriction?\n"
   ]
  },
  {
   "cell_type": "code",
   "execution_count": null,
   "metadata": {},
   "outputs": [],
   "source": []
  },
  {
   "cell_type": "markdown",
   "metadata": {},
   "source": [
    "<h4>\n",
    "(d) How much does the power-of-two restriction add to the total cost?\n"
   ]
  },
  {
   "cell_type": "code",
   "execution_count": null,
   "metadata": {},
   "outputs": [],
   "source": []
  },
  {
   "cell_type": "markdown",
   "metadata": {},
   "source": [
    "<h2> Question 6 </h2>\n",
    "\n",
    "<h3> The famous Ernie of Sesame Street continually faces replenishment decisions concerning his cookie supply. The\n",
    "Cookie Monster devours the cookies at an average rate of 200 per day. The cookies cost \\$0.03 each. Ernie is\n",
    "getting fed up with having to go to the store once per week. His friend, Bert has offered to do a study to help\n",
    "Ernie with his problem. </h3>\n",
    "\n",
    "<h4> \n",
    "(a) If Ernie is implicitly following an EOQ policy, what can Bert say about the implicit values of the two missing\n",
    "parameters?\n",
    "</h4>\n"
   ]
  },
  {
   "cell_type": "code",
   "execution_count": null,
   "metadata": {},
   "outputs": [],
   "source": []
  },
  {
   "cell_type": "markdown",
   "metadata": {},
   "source": [
    "<h4>\n",
    "(b) Suppose that the store offered a special of 10,000 cookies for $200. Should Ernie take advantage of the offer?\n",
    "(Hint: Provide an argument using your answer to Part (a) regarding the relationship between K and i.)\n"
   ]
  },
  {
   "cell_type": "code",
   "execution_count": null,
   "metadata": {},
   "outputs": [],
   "source": []
  },
  {
   "cell_type": "markdown",
   "metadata": {},
   "source": [
    "<h2> Question 7 </h2>\n",
    "\n",
    "<h3> \n",
    "An auto manufacturer uses 500 tons of steel per day. The company pays \\$1,100 per ton of steel purchased, and\n",
    "each order incurs a fixed cost of \\$2,250. The holding cost is \\$275 per ton of steel per year. \n",
    "</h3>\n",
    "\n",
    "<h4> \n",
    "(a) Using the EOQ model, calculate the optimal order quantity, reorder interval, and the average total cost per\n",
    "year. \n",
    "</h4>\n"
   ]
  },
  {
   "cell_type": "code",
   "execution_count": null,
   "metadata": {},
   "outputs": [],
   "source": []
  },
  {
   "cell_type": "markdown",
   "metadata": {},
   "source": [
    "<h4>\n",
    "(b) Suppose that the steel supplier offers the auto manufacturer a price of \\$1,490 per ton of steel if Q < 1200\n",
    "tons; \\$1,220 per ton of steel if 1200 ≤ Q < 2400 tons; and \\$1,100 per ton of steel if Q ≥ 2400 tons. The\n",
    "annual holding cost rate, i is 0.25.\n",
    "</h4>\n",
    "<br/>\n",
    "<h5>\n",
    "i. Calculate Q∗ and the optimal average total cost per year for the all units discount structure.\n",
    "\n",
    "</h5>\n",
    "<br/>\n",
    "<h5>\n",
    "ii. Calculate Q∗ and the optimal average total cost per year for the incremental discount structure.\n",
    "\n",
    "</h5>"
   ]
  },
  {
   "cell_type": "code",
   "execution_count": null,
   "metadata": {},
   "outputs": [],
   "source": []
  },
  {
   "cell_type": "markdown",
   "metadata": {},
   "source": [
    "<h2> Question 8 </h2>\n",
    "\n",
    "<h3> \n",
    "Write-EZ ballpoint pens at the campus bookstore are sold at a fairly steady rate of 75 per week. The ballpoint\n",
    "pens cost \\$1.50 each. Initiating an order costs the bookstore \\$20.00 and holding costs are based on an annual\n",
    "interest rate of 20%\n",
    "</h3>\n",
    "\n",
    "<h4> \n",
    "(a) Determine the economic order quantity for the ballpoint pens and the frequency of ordering.\n",
    "</h4>\n"
   ]
  },
  {
   "cell_type": "code",
   "execution_count": null,
   "metadata": {},
   "outputs": [],
   "source": []
  },
  {
   "cell_type": "markdown",
   "metadata": {},
   "source": [
    "<h4>\n",
    "(b) If the bookstore wants to keep the number of orders per year below 4 what should the order size be?\n"
   ]
  },
  {
   "cell_type": "code",
   "execution_count": null,
   "metadata": {},
   "outputs": [],
   "source": []
  },
  {
   "cell_type": "markdown",
   "metadata": {},
   "source": [
    "<h4>\n",
    "(c) What is the range of values for the fixed setup cost, A, for which the EOQ you found in part (a) would be\n",
    "preferable (in terms of setup and holding costs) to the order quantity you found in part (b)?"
   ]
  },
  {
   "cell_type": "code",
   "execution_count": null,
   "metadata": {},
   "outputs": [],
   "source": []
  },
  {
   "cell_type": "markdown",
   "metadata": {},
   "source": [
    "<h2> Question 9 </h2>\n",
    "\n",
    "<h3> \n",
    "For the special case of the multi-item EOQ model with constraints discussed on slide #49, show/prove that the\n",
    "optimal solution is indeed given by the formula\n",
    "*see hw doc*\n",
    "denotes the EOQ of item j.\n",
    "</h3>\n"
   ]
  },
  {
   "cell_type": "code",
   "execution_count": null,
   "metadata": {},
   "outputs": [],
   "source": []
  },
  {
   "cell_type": "markdown",
   "metadata": {},
   "source": [
    "<h2> Question 10 </h2>\n",
    "\n",
    "<h3> \n",
    "A manufacturing firm purchases two components, item 1 and item 2, from the same supplier. Both of these\n",
    "components are needed for production, and shortages are not allowed as company policy. The fixed setup cost\n",
    "that the firm incurs for each order is \\$20.00, independent of the type and number of items ordered. The following\n",
    "table outlines the demand, unit cost and holding cost values for the components.\n",
    "</h3>\n",
    "\n",
    "<h4> (a) Find the EOQ for Item 1 and Item 2, separately.\n",
    " </h4>\n"
   ]
  },
  {
   "cell_type": "code",
   "execution_count": null,
   "metadata": {},
   "outputs": [],
   "source": []
  },
  {
   "cell_type": "markdown",
   "metadata": {},
   "source": [
    "<h4>\n",
    "(b) Due to the high cost of ordering, and other administrative issues, the purchasing manager wants to coordinate\n",
    "the replenishments of these components and include both items in an order. Let T denote the time between\n",
    "these coordinated replenishments. Find the best value of T and the order quantities for the items."
   ]
  },
  {
   "cell_type": "code",
   "execution_count": null,
   "metadata": {},
   "outputs": [],
   "source": []
  },
  {
   "cell_type": "markdown",
   "metadata": {},
   "source": [
    "<h4>\n",
    "(c) Compare the total unit cost for the ordering values that you found in (a) and (b). Which ordering policy is\n",
    "better?"
   ]
  },
  {
   "cell_type": "code",
   "execution_count": null,
   "metadata": {},
   "outputs": [],
   "source": []
  },
  {
   "cell_type": "markdown",
   "metadata": {},
   "source": [
    "<h2> Question 11 </h2>\n",
    "\n",
    "<h3> \n",
    "(EOQ Extension: Allowing Backorders) Derive the optimal ordering quantity (and the backorder level) under\n",
    "the following assumptions. Note that these are the same assumptions that we make for the basic EOQ model,\n",
    "except for the assumption that allows backorders.\n",
    "</h3>\n",
    "<br/>\n",
    "<h3>\n",
    "Assumptions: Constant and deterministic demand; Zero lead time; Single item; Costs, all constant and known;\n",
    "Setup cost of \\$ K per order; Unit purchasing cost of \\$ c per unit (\\$/unit); Annual holding rate of \\$ i per \\$ per\n",
    "year (\\$/\\$/year); Backorders are allowed, but a penalty cost for each backorder is incurred at \\$ b per unit per\n",
    "year (\\$/unit/year).\n",
    "</h3>\n",
    "<br/>\n",
    "<h3>\n",
    "Find the order quantity, Q∗\n",
    ", and backorder quantity, B∗\n",
    ", (note that this is a decision variable in this case, and\n",
    "represents how “negative” the inventory level would become in each cycle) to minimize the total annual costs.\n",
    "</h3>\n"
   ]
  },
  {
   "cell_type": "code",
   "execution_count": null,
   "metadata": {},
   "outputs": [],
   "source": []
  },
  {
   "cell_type": "markdown",
   "metadata": {},
   "source": [
    "<h2> Question 12 </h2>\n",
    "\n",
    "<h3> \n",
    "Prove that the optimal average holding plus backorder cost per year in the EOQ model with backorders is less\n",
    "than the optimal average holding cost per year in the EOQ model. Note that the same is clearly true for the\n",
    "optimal setup cost per year; therefore, both types of costs decrease when we allow backorders.\n",
    "</h3>\n"
   ]
  },
  {
   "cell_type": "code",
   "execution_count": null,
   "metadata": {},
   "outputs": [],
   "source": []
  },
  {
   "cell_type": "markdown",
   "metadata": {},
   "source": [
    "<h2> Question 13 </h2>\n",
    "\n",
    "<h3> \n",
    "Suppose that your favorite electronics store maintains an inventory of a certain brand and model of MP3 player.\n",
    "The store pays the manufacturer \\$ 165 for each MP3 player ordered. Each order incurs a fixed cost of \\$40 in\n",
    "order processing, shipping, etc., and requires a 2-week lead time. The store estimates that its cost of capital is\n",
    "17% per year and it estimates its other holding costs (warehouse space, insurance, etc.) at \\$1 per MP3 player\n",
    "per month. The demand for MP3 players is steady at 40 per week\n",
    "</h3>\n",
    "\n",
    "<h4> \n",
    "(a) Using the EOQ model calculate the optimal order quantity, reorder point and average cost per year.\n",
    " </h4>\n"
   ]
  },
  {
   "cell_type": "code",
   "execution_count": null,
   "metadata": {},
   "outputs": [],
   "source": []
  },
  {
   "cell_type": "markdown",
   "metadata": {},
   "source": [
    "<h4>\n",
    "(b) Now suppose that backorders are allowed, and that each backorder incurs a stockout penalty of $60 per\n",
    "stockout per year. Using the EOQ model with planned backorders, calculate the optimal order quantity,\n",
    "optimal stockout level, reorder point, and the average cost per year. How much money would the store save\n",
    "per year by allowing stockouts, expressed as a percentage?\n"
   ]
  },
  {
   "cell_type": "code",
   "execution_count": null,
   "metadata": {},
   "outputs": [],
   "source": []
  },
  {
   "cell_type": "markdown",
   "metadata": {},
   "source": [
    "<h2> Question 14 </h2>\n",
    "\n",
    "<h3> \n",
    "(EOQ Extension: Lost Sales) Suppose that we are allowed to stock out in the EOQ model, but instead of excess\n",
    "demands being backordered, they are lost. Let x be the fraction of demand that is lost, and let p be the cost\n",
    "per lost sale. Let c be the cost to order each unit. In the standard EOQ and the EOQ with backorders (in the\n",
    "previous problem), we could ignore c because each year we order exactly D items per year on average, regardless\n",
    "of the order quantity Q/ But if some demands are lost, we will not order items to replenish those demands;\n",
    "therefore, the total per unit ordering cost per year does, in this case, depend on the solution we choose.\n",
    "</h3>\n",
    "\n",
    "<h4> \n",
    "(a) Formulate the total cost per year as a function of Q and x.\n",
    "</h4>\n"
   ]
  },
  {
   "cell_type": "code",
   "execution_count": null,
   "metadata": {},
   "outputs": [],
   "source": []
  },
  {
   "cell_type": "markdown",
   "metadata": {},
   "source": [
    "<h4>\n",
    "(b) Prove that *see hw doc*"
   ]
  },
  {
   "cell_type": "code",
   "execution_count": null,
   "metadata": {},
   "outputs": [],
   "source": []
  },
  {
   "cell_type": "markdown",
   "metadata": {},
   "source": [
    "<h4>\n",
    "(c) Give an interpretation of the condition D(p − c) >\n",
    "√2KDh and explain in words why the optimal value of\n",
    "x∗\n",
    "follows the rule given above."
   ]
  },
  {
   "cell_type": "code",
   "execution_count": null,
   "metadata": {},
   "outputs": [],
   "source": []
  },
  {
   "cell_type": "markdown",
   "metadata": {},
   "source": [
    "<h4>\n",
    "(d) Part (b) implies that either we meet every demand or we stock out on every demand; that is, x∗\n",
    "is never\n",
    "strictly between 0 and 1 (except in the special case in which D(p − c) = √2KDh). This is not the case in\n",
    "the EOQ with backorders. Explain in words why the two models give different results.\n"
   ]
  },
  {
   "cell_type": "code",
   "execution_count": null,
   "metadata": {},
   "outputs": [],
   "source": []
  },
  {
   "cell_type": "markdown",
   "metadata": {},
   "source": [
    "<h2> Question 15 </h2>\n",
    "\n",
    "<h3> \n",
    "(Make or Buy?) Bell Computer is considering of subcontracting the production of a motherboard that is used\n",
    "in one of the company’s popular computers to an overseas company. Hence, they need the help of an ASU IE\n",
    "graduate to compare the annual costs of two options: produce internally or buy from the overseas company. The\n",
    "annual demand for the motherboards is 30,000 units, and the operations of Bell Computer cannot tolerate any\n",
    "shortages. The holding costs are based on a 25% annual interest rate.\n",
    "</h3>\n",
    "\n",
    "<h4> \n",
    "(a) If this specific motherboard is produced internally, it will cost \\$ 980 each time the machines are setup for\n",
    "a production run. The unit production cost is estimated to be around \\$75 by the accounting department.\n",
    "Bell Computer can produce the motherboard at a rate of 50,000 per year.\n",
    "</h4>\n",
    "<h5>\n",
    "i. Calculate the economic production lot size for the internal production option.\n",
    "</h5>\n",
    "<h5>\n",
    "ii. What is the length (i.e., duration) of each production run?\n",
    "</h5>\n",
    "<h5>\n",
    "iii. Determine the total annual cost (including annual production costs) if Bell Computer produces the\n",
    "motherboards internally.\n",
    "</h5>\n"
   ]
  },
  {
   "cell_type": "code",
   "execution_count": null,
   "metadata": {},
   "outputs": [],
   "source": []
  },
  {
   "cell_type": "markdown",
   "metadata": {},
   "source": [
    "<h4>\n",
    "(b) If the motherboards are bought from the overseas company, it will cost \\$ 250 each time an order is placed.\n",
    "The overseas company charges \\$125 for each motherboard, but they do promise immediate deliveries\n",
    "</h4>\n",
    "<h5>\n",
    "i. Calculate the economic order quantity for the subcontracting option.\n",
    "</h5>\n",
    "<h5>\n",
    "ii. Determine the total annual cost in this case."
   ]
  },
  {
   "cell_type": "code",
   "execution_count": null,
   "metadata": {},
   "outputs": [],
   "source": []
  },
  {
   "cell_type": "markdown",
   "metadata": {},
   "source": [
    "<h4>\n",
    "(c) Based on your findings above, should Bell Computer make or buy the motherboard?\n"
   ]
  },
  {
   "cell_type": "code",
   "execution_count": null,
   "metadata": {},
   "outputs": [],
   "source": []
  }
 ],
 "metadata": {
  "kernelspec": {
   "display_name": "Python 3",
   "language": "python",
   "name": "python3"
  },
  "language_info": {
   "codemirror_mode": {
    "name": "ipython",
    "version": 3
   },
   "file_extension": ".py",
   "mimetype": "text/x-python",
   "name": "python",
   "nbconvert_exporter": "python",
   "pygments_lexer": "ipython3",
   "version": "3.7.0"
  }
 },
 "nbformat": 4,
 "nbformat_minor": 2
}
